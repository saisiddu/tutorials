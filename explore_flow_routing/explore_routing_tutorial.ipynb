{
 "cells": [
  {
   "cell_type": "markdown",
   "metadata": {},
   "source": [
    "<img src=\"http://landlab.github.io/assets/Landlab-logo.png\"\n",
    "style=\"float:left;width:150px;padding:0px\">  "
   ]
  },
  {
   "cell_type": "markdown",
   "metadata": {},
   "source": [
    "# Exploring overland flow routing with Landlab\n",
    "\n",
    "## Objectives\n",
    "* Introduce the shallow water equation, modeling domains, model steps, and curriculum questions.\n",
    "* Use Landlab to set up a comparative model experiment.\n",
    "* Run Landlab flow routing components for different conditions.\n",
    "* Explore flow sensitivity to model selection and parameter values using model outputs.\n",
    "* Save results to a new HydroShare resource."
   ]
  },
  {
   "cell_type": "markdown",
   "metadata": {},
   "source": [
    "## About this notebook\n",
    "\n",
    "### Data Science and Cyberinfrastructure\n",
    "\n",
    "This notebook is a computational narrative using the [Landlab](http://landlab.github.io) Python-based modeling toolkit that allows scientists and students to build numerical models for earth surface processes. This notebook also utilizes the following open source research software libraries: [NumPy](http://www.numpy.org), [Matplotlib](https://matplotlib.org), [Pandas](https://pandas.pydata.org), and [HydroShare](https://www.hydroshare.org). The software environment is provided by the [CUAHSI JupyterHub server](https://jupyter.cuahsi.org). \n",
    "<hr>\n",
    "\n",
    "**[Click here for additional Landlab tutorials](https://github.com/landlab/landlab/wiki/Tutorials)**\n",
    "<hr>\n",
    "\n",
    "### How to use this notebook\n",
    "\n",
    "#### Navigation\n",
    "\n",
    "This notebook is made of text cells, including the cell you are reading now, and code cells. The order in which you run the cells matters. The notebook cells are generally designed to be run top to bottom.\n",
    "\n",
    "Code cells have the following characters to their left:\n",
    "* `In [ ]:` is a cell yet to be run.\n",
    "* `In [*]:` is a cell that is running.\n",
    "* `In [n]:` where `n` is an integer, is a cell that has run. The number indicates the sequence the cell was run, i.e. the first cell run is `n`=1.\n",
    "\n",
    "The code in a notebook is ran one cell at a time. Place your cursor in a code cell, hold down `shift` and then also press `enter`. You can even experiment with typing your own code into a cell and running it.\n",
    "\n",
    "Alternatively, you can run groups of cells by clicking `Cell` on the menu above and then selecting among the various run options. This is also where you can clear outputs from previous runs.\n",
    "\n",
    "You can also `shift` + `enter` in a text cell to advance your place in the notebook.\n",
    "\n",
    "See [this page](https://github.com/landlab/tutorials/blob/master/README.md) for more instructions on how to use an interactive Jupyter notebook.\n",
    "\n",
    "#### Output\n",
    "\n",
    "Every time you run this notebook the model outputs you generate are saved in your personal user space in the virtual computer through Hydroshare. These outputs are available for you to plot and explore using the plotting functions. We will plot model output at the end of this tutorial. \n",
    "\n",
    "Your final results can be saved to Hydroshare as a resource (see section 9.0 below). Unwanted model output can be deleted at anytime from your space, including by running the final code block of this tutorial. \n",
    "\n",
    "If an error occurs, click on the upper menu bar item, `Kernel` and then select `Restart and Clear Outputs` in the drop down menu.\n",
    "\n",
    "### Acknowledgements\n",
    "\n",
    "This notebook was developed from code written by Jordan Adams as part of her Ph.D. disseration at Tulane University and Amanda Manaster as a tutorial for a Landlab workshop at the Geophysical Society of America Annual Meeting, Seattle, WA, 2018. Nathan Lyons provided code and technical support on animations.   \n",
    "\n",
    "Use or citation of this notebook should also reference:\n",
    "\n",
    "Adams, J. M., Gasparini, N. M., Hobley, D. E. J., Tucker, G. E., Hutton, E. W. H., Nudurupati, S. S., and Istanbulluoglu, E.: The Landlab v1.0 OverlandFlow component: a Python tool for computing shallow-water flow across watersheds, Geosci. Model Dev., 10, 1645-1663, https://doi.org/10.5194/gmd-10-1645-2017, 2017."
   ]
  },
  {
   "cell_type": "markdown",
   "metadata": {},
   "source": [
    "## 1.0. Introduction\n",
    "\n",
    "### 1.1. Theory\n",
    "\n",
    "The 1-D Saint Venant equation for transient shallow water flow is in the core of most hydrodynamics models:\n",
    "\n",
    "$$ \\frac{\\partial Q}{\\partial t} + \\frac{\\partial}{\\partial x}\\left(\\frac{Q^2}{A_{xs}}\\right) + gA_{xs} \\frac{\\partial (h+z)}{\\partial x} + \\frac{gn^2 \\lvert{Q}\\rvert Q}{R^{4/3}A_{xs}} = 0 \\space\\space\\space\\space\\space\\space\\space\\space\\space\\space\\space\\space\\space\\space\\space\\space\\space\\space\\space\\space(1)$$\n",
    "    \n",
    "\n",
    "\n",
    "where      \n",
    "&nbsp;&nbsp;&nbsp;&nbsp;$Q = discharge \\left[L^3{T^{-1}}\\right]$  \n",
    "&nbsp;&nbsp;&nbsp;&nbsp;$t = time \\left[T\\right]$  \n",
    "&nbsp;&nbsp;&nbsp;&nbsp;$x = location \\space in \\space space \\left[L\\right]$   \n",
    "&nbsp;&nbsp;&nbsp;&nbsp;$g = acceleration \\space due \\space to \\space gravity \\left[L{T^{-2}}\\right]$  \n",
    "&nbsp;&nbsp;&nbsp;&nbsp;$h = water \\space depth \\left[L\\right]$  \n",
    "&nbsp;&nbsp;&nbsp;&nbsp;$z = bed \\space elevation \\left[L\\right]$  \n",
    "&nbsp;&nbsp;&nbsp;&nbsp;$n = Manning's \\space roughness \\space coeffiecient \\left[T{L^{{-1}/{3}}}\\right]$  \n",
    "&nbsp;&nbsp;&nbsp;&nbsp;$R = hydraulic \\space radius \\left[L\\right]$  \n",
    "&nbsp;&nbsp;&nbsp;&nbsp;$A_{xs} = cross-sectional \\space area \\left[L^2\\right]$ \n",
    "\n",
    "From left to right, the terms in Equation (1) represent local acceleration, convective acceleration, gradients of fluid pressure and bed elevation, and friction. Because this equation is difficult (i.e., almost impossible) to solve explicitly, approximations are commonly used. The simplest approximation, the Kinematic Wave model, only retains the friction term, making it the simplest approximation one can use. The Landlab `KinwaveImplicitOverlandFlow` component provides a 2-D locally implicit kinematic wave solution in which energy slope is assumed to be equal to the bed slope. \n",
    "\n",
    "The diffusive wave model developed from Equation (1) neglects the first two terms. The Landlab `OverlandFlow` component (Adams et al. 2017) adapts a 2D hydrodynamic algorithm similar to the diffusive approximation with negligible advection term (de Almeida et al., 2012) used in LISFLOOD-FP. The flow geometry is assumed to be rectangular and of constant flow width. The approximation used in `OverlandFlow` is more accurate but also more computationally expensive than the approximation used in `KinwaveImplicitOverlandFlow`.  \n",
    "\n",
    "<small>Click here for the OverlandFlow Component Users Manual: https://github.com/landlab/landlab/wiki/OverlandFlow-Component-Users-Manual</a></small><br>\n",
    "\n",
    "This tutorial illustrates the use of both the `KinwaveImplicitOverlandFlow` and the `OverlandFlow` components to map overland flow depth across two modeling domains and plot a flow hydrograph at the outlet and several internal nodes. We will use two domains:\n",
    "\n",
    "* Spring Creek watershed, CO, USA \n",
    "* A synthetic landscape modeled with Landlab   \n",
    "\n",
    "We will investigate the roles of watershed shape and runoff intensity and duration on the characteristics of hydrographs. Runoff is assumed to be generated at a spatially constant rate on the landscape and flows downhill, driving overland flow and a hydrograph at every location on the landscape. "
   ]
  },
  {
   "cell_type": "markdown",
   "metadata": {},
   "source": [
    "**Terms:** runoff intensity, runoff duration, peak discharge, hydrograph time to peak, rising limb, falling limb. "
   ]
  },
  {
   "cell_type": "markdown",
   "metadata": {},
   "source": [
    "### 1.2. Model Domains \n",
    "\n",
    "The natural catchment used in this tutorial and studied in Adams et al. (2017) is the Spring Creek watershed, a steep 27 km$^2$ watershed located in central Colorado. The digital elevation model (DEM) we will use has a resolution of 30 m. To clearly contrast landscape shape, this notebook uses a modeled \"synthetic\" landscape produced using a model developed in Landlab by coupling hillslope diffusion and stream-power erosion rules. The landscape evolution model was run on a 36 km$^2$ area represented by regular grids with a node spacing of 30 m. \n",
    "\n",
    "These watershed domains are available at the Landlab Github site and as Hydroshare resources, and will be imported as part of this exercise.\n",
    "\n",
    "### 1.3. Steps to Explore the Model\n",
    "\n",
    "We will run the two overland flow models for 6 hours. A storm begins at the onset of the simulation and lasts for 2 hours. We will visualize water depths across the watershed over the course of the simulation and plot hydrographs at the outlet and two internal nodes.\n",
    "\n",
    "In repeated model experiments you can investigate the influence of runoff intensity, runoff duration, and surface resistance on streamflow hydrographs. You can organize your approach by running the two models and saving results from each watershed domain before running the models for the other domain.  \n",
    "\n",
    "Revisit the 'How to use this notebook' section at the top of the page as needed.\n",
    "\n",
    "### 1.4. Questions to consider before running this notebook\n",
    "\n",
    "We will focus on the hydrograph characteristics, time to peak, peak discharge, and hydrograph shape. \n",
    "\n",
    "1. How do watershed shape and drainage area affect hydrograph characteristics? \n",
    "2. How does runoff intensity impact the time to peak and peak discharge across the channel network? \n",
    "3. How does runoff duration impact the time to peak and peak discharge across the channel network? \n",
    "4. How does surface roughness due to soil and land cover influence hydrograph peak discharge and shape?"
   ]
  },
  {
   "cell_type": "markdown",
   "metadata": {},
   "source": [
    "## 2.0 Data Science & Cyberinfrastructure Methods\n",
    "\n",
    "### 2.1 Import Landlab components and additional modules"
   ]
  },
  {
   "cell_type": "code",
   "execution_count": null,
   "metadata": {},
   "outputs": [],
   "source": [
    "from landlab import imshow_grid\n",
    "from landlab.components import KinwaveImplicitOverlandFlow, OverlandFlow\n",
    "from landlab.components.flow_accum import (\n",
    "    FlowAccumulator,\n",
    "    find_drainage_area_and_discharge,\n",
    "    flow_accumulation,\n",
    ")\n",
    "from landlab.io import read_esri_ascii"
   ]
  },
  {
   "cell_type": "markdown",
   "metadata": {},
   "source": [
    "### 2.2 Import standard,  plotting, and numeric modules"
   ]
  },
  {
   "cell_type": "code",
   "execution_count": null,
   "metadata": {},
   "outputs": [],
   "source": [
    "import copy\n",
    "import os\n",
    "\n",
    "import matplotlib.animation as animation\n",
    "import matplotlib.image as mgimg\n",
    "import numpy as np\n",
    "import pandas as pd\n",
    "from IPython.display import HTML\n",
    "from matplotlib import pyplot as plt\n",
    "\n",
    "# Set the environment to place plots in Jupyter cells.\n",
    "%matplotlib inline"
   ]
  },
  {
   "cell_type": "markdown",
   "metadata": {},
   "source": [
    "### 2.3 Import HydroShare tools\n",
    "\n",
    "The results of the Geoprocessing steps below will be saved in the HydroShare environment using the `hydroshare` library. These are needed to import data from HydroShare and create new HydroShare resources with your results."
   ]
  },
  {
   "cell_type": "code",
   "execution_count": null,
   "metadata": {},
   "outputs": [],
   "source": [
    "from utilities import hydroshare\n",
    "\n",
    "hs = hydroshare.hydroshare()\n",
    "print(\"This is the list of folders in your directory of this HydroShare resource.\")\n",
    "os.getcwd()"
   ]
  },
  {
   "cell_type": "markdown",
   "metadata": {},
   "source": [
    "## 3.0 Landlab Methods\n",
    "\n",
    "### 3.1. Use Landlab to read in the ASCII DEM and set boundary conditions "
   ]
  },
  {
   "cell_type": "code",
   "execution_count": null,
   "metadata": {},
   "outputs": [],
   "source": [
    "# Square Basin\n",
    "watershed_dem_sq = \"supporting_files/Square_TestBasin.asc\"\n",
    "(rmg_sq, z_sq) = read_esri_ascii(watershed_dem_sq, name=\"topographic__elevation\")\n",
    "rmg_sq.set_watershed_boundary_condition(z_sq)\n",
    "\n",
    "# Spring Creek Basin\n",
    "watershed_dem_sc = \"supporting_files/SpringCreek_DEM.asc\"\n",
    "(rmg_sc, z_sc) = read_esri_ascii(watershed_dem_sc, name=\"topographic__elevation\")\n",
    "rmg_sc.set_watershed_boundary_condition(z_sc)"
   ]
  },
  {
   "cell_type": "markdown",
   "metadata": {},
   "source": [
    "### 3.2. Use Landlab to calculate flow accumulation and drainage area  \n",
    "\n",
    "Drainage areas derived in this step will be used in selecting internal points for plotting hydrographs. "
   ]
  },
  {
   "cell_type": "code",
   "execution_count": null,
   "metadata": {},
   "outputs": [],
   "source": [
    "# Square Basin\n",
    "fa_sq = FlowAccumulator(rmg_sq)\n",
    "fa_sq.run_one_step()\n",
    "(da_sq, q_sq) = fa_sq.accumulate_flow()\n",
    "\n",
    "# Spring Creek\n",
    "fa_sc = FlowAccumulator(rmg_sc)\n",
    "fa_sc.run_one_step()\n",
    "(da_sc, q_sc) = fa_sc.accumulate_flow()"
   ]
  },
  {
   "cell_type": "markdown",
   "metadata": {},
   "source": [
    "### 3.3. List and select the nodes with a drainage area greater than a threshold  \n",
    "\n",
    "Below we show how you can identify internal nodes in the two domains for plotting streamflow hydrographs. We selected nodes using drainge area thresholds such that the watershed areas above midstream and upstream nodes of the two watersheds are close to each other. This gives us the opportunity to compare hydrographs in relation to watershed shape and watershed relief above each node, given the similar watershed sizes.\n",
    "\n",
    "The midstream and upstream node drainage area thresholds can be identified by drainage area ranges in km$^2$. The range used to identify a midstream location should be larger than the range used to identify an upstream location. These internal nodes can be identified by trial using different drainage area values, and plotting the locations selected. After we select the drainage area ranges we will print the node IDs, drainge areas, and elevations of the locations we select and map the locations on the elevation map of the watershed. To continue your project with the Square domain you can skip the steps in 3.3.2 that pertains to Spring Creek and move to 4.0. After modeling flows in the Square domain you will need to come back to 3.3.2. and identify the nodes you would like to include for hydrograph analysis in Spring Creek. "
   ]
  },
  {
   "cell_type": "markdown",
   "metadata": {},
   "source": [
    "#### 3.3.1 Square Basin: a) set thresholds and b) select output nodes\n",
    "\n",
    "We will identify the nodes for the outlet, midstream, and upstream locations for plotting hydrographs using drainage area thresholds for the latter two. Code is written to set the outlet at the node with the largest drainage area. Below we will first identify the outlet node ID, its elevation and drainage area.  "
   ]
  },
  {
   "cell_type": "code",
   "execution_count": null,
   "metadata": {},
   "outputs": [],
   "source": [
    "outlet_node_to_sample_sq = np.argmax(rmg_sq.at_node[\"drainage_area\"])\n",
    "\n",
    "print(\n",
    "    \"Outlet Node = \"\n",
    "    + str(outlet_node_to_sample_sq)\n",
    "    + \"; Drainage Area = \"\n",
    "    + str(da_sq[outlet_node_to_sample_sq] / 1000000)\n",
    "    + \" km^2; Elev = \"\n",
    "    + str(round(z_sq[outlet_node_to_sample_sq], 1))\n",
    "    + \" m\"\n",
    ")"
   ]
  },
  {
   "cell_type": "markdown",
   "metadata": {},
   "source": [
    "The midstream and upstream node drainge area thresholds can be identified by drainge area ranges in km$^2$. The range used to identify a midstream location should be larger than the range used to identify an upstream location. These internal nodes can be identified by trial using different drainge area values, and plotting the locations selected. After we select the drainage area ranges we will print the node IDs, drainge areas, and elevations of the locations we select and map the locations on the elevation map of the watershed."
   ]
  },
  {
   "cell_type": "code",
   "execution_count": null,
   "metadata": {},
   "outputs": [],
   "source": [
    "# Set drainge area threshold ranges in km^2 to identify nodes that fall into these ranges.\n",
    "# Values can be changed to set different locations on the landscape for plotting hydrographs.\n",
    "midstream_da_upperbound = 20\n",
    "midstream_da_lowerbound = 12\n",
    "upstream_da_upperbound = 4\n",
    "upstream_da_lowerbound = 3\n",
    "\n",
    "midstream_node_to_sample_sq = np.where(\n",
    "    np.logical_and(\n",
    "        rmg_sq.at_node[\"drainage_area\"] > midstream_da_lowerbound * 1000000,\n",
    "        rmg_sq.at_node[\"drainage_area\"] < midstream_da_upperbound * 1000000,\n",
    "    )\n",
    ")[0][-1]\n",
    "upstream_node_to_sample_sq = np.where(\n",
    "    np.logical_and(\n",
    "        rmg_sq.at_node[\"drainage_area\"] > upstream_da_lowerbound * 1000000,\n",
    "        rmg_sq.at_node[\"drainage_area\"] < upstream_da_upperbound * 1000000,\n",
    "    )\n",
    ")[0][-1]\n",
    "\n",
    "print(\n",
    "    \"Outlet Node = \"\n",
    "    + str(outlet_node_to_sample_sq)\n",
    "    + \"; Drainage Area= \"\n",
    "    + str(da_sq[outlet_node_to_sample_sq] / 1000000)\n",
    "    + \" km^2; Elev = \"\n",
    "    + str(round(z_sq[outlet_node_to_sample_sq], 1))\n",
    "    + \" m\"\n",
    ")\n",
    "print(\n",
    "    \"Midstream Node = \"\n",
    "    + str(midstream_node_to_sample_sq)\n",
    "    + \"; Drainage Area= \"\n",
    "    + str(da_sq[midstream_node_to_sample_sq] / 1000000)\n",
    "    + \" km^2; Elev = \"\n",
    "    + str(round(z_sq[midstream_node_to_sample_sq], 1))\n",
    "    + \" m\"\n",
    ")\n",
    "print(\n",
    "    \"Upstream Node = \"\n",
    "    + str(upstream_node_to_sample_sq)\n",
    "    + \"; Drainage Area= \"\n",
    "    + str(da_sq[upstream_node_to_sample_sq] / 1000000)\n",
    "    + \" km^2; Elev = \"\n",
    "    + str(round(z_sq[upstream_node_to_sample_sq], 1))\n",
    "    + \" m\"\n",
    ")"
   ]
  },
  {
   "cell_type": "code",
   "execution_count": null,
   "metadata": {},
   "outputs": [],
   "source": [
    "# Plot Square Basin\n",
    "\n",
    "# set up the figure\n",
    "fig, ax = plt.subplots(nrows=1, ncols=1, figsize=(6, 6))\n",
    "ax.xaxis.set_visible(False)\n",
    "\n",
    "# plot the DEM\n",
    "imshow_grid(\n",
    "    rmg_sq,\n",
    "    z_sq,\n",
    "    plot_name=\"Square\",\n",
    "    color_for_closed=\"white\",\n",
    "    colorbar_label=\"Elevation (m)\",\n",
    ")\n",
    "\n",
    "# plot the sample nodes\n",
    "ax.plot(\n",
    "    rmg_sq.node_x[outlet_node_to_sample_sq],\n",
    "    rmg_sq.node_y[outlet_node_to_sample_sq],\n",
    "    \"ro\",\n",
    "    label=\"outlet\",\n",
    ")\n",
    "ax.plot(\n",
    "    rmg_sq.node_x[midstream_node_to_sample_sq],\n",
    "    rmg_sq.node_y[midstream_node_to_sample_sq],\n",
    "    \"go\",\n",
    "    label=\"midstream\",\n",
    ")\n",
    "ax.plot(\n",
    "    rmg_sq.node_x[upstream_node_to_sample_sq],\n",
    "    rmg_sq.node_y[upstream_node_to_sample_sq],\n",
    "    \"bo\",\n",
    "    label=\"upstream\",\n",
    ")\n",
    "\n",
    "_ = ax.legend()"
   ]
  },
  {
   "cell_type": "markdown",
   "metadata": {},
   "source": [
    "#### 3.3.2 Spring Creek: set thresholds and select the output nodes listed by threshold\n",
    "\n",
    "We will identify the nodes for outlet, midstream, and upstream locations for plotting hydrographs using drainge area thresholds for the latter two. Code is written to set the outlet at the node with the largest drainage area. Below we will first identify the outlet node ID, its elevation and drainage area.\n"
   ]
  },
  {
   "cell_type": "code",
   "execution_count": null,
   "metadata": {},
   "outputs": [],
   "source": [
    "outlet_node_to_sample_sc = np.argmax(rmg_sc.at_node[\"drainage_area\"])\n",
    "print(\n",
    "    \"Outlet Node = \"\n",
    "    + str(outlet_node_to_sample_sc)\n",
    "    + \"; Drainage Area= \"\n",
    "    + str(da_sc[outlet_node_to_sample_sc] / 1000000)\n",
    "    + \" km^2; Elev = \"\n",
    "    + str(round(z_sc[outlet_node_to_sample_sc], 1))\n",
    "    + \" m\"\n",
    ")"
   ]
  },
  {
   "cell_type": "markdown",
   "metadata": {},
   "source": [
    "The midstream and upstream node drainge area thresholds can be identified by drainge area ranges in km$^2$. The range used to identify a midstream location should be larger than the range used to identify an upstream location. These internal nodes can be identified by trial using different drainge area values, and plotting the locations selected. After we select the drainage area ranges we will print the node IDs, drainge areas, and elevations of the locations we select and map the locations on the elevation map of the watershed. "
   ]
  },
  {
   "cell_type": "code",
   "execution_count": null,
   "metadata": {},
   "outputs": [],
   "source": [
    "# These values can be change to set drainage area thresholds in km^2\n",
    "midstream_da_upperbound = 20\n",
    "midstream_da_lowerbound = 17.5\n",
    "upstream_da_upperbound = 5\n",
    "upstream_da_lowerbound = 3.2\n",
    "\n",
    "# Identify sample nodes.\n",
    "outlet_node_to_sample_sc = np.argmax(rmg_sc.at_node[\"drainage_area\"])\n",
    "midstream_node_to_sample_sc = np.where(\n",
    "    np.logical_and(\n",
    "        rmg_sc.at_node[\"drainage_area\"] > midstream_da_lowerbound * 1000000,\n",
    "        rmg_sc.at_node[\"drainage_area\"] < midstream_da_upperbound * 1000000,\n",
    "    )\n",
    ")[0][0]\n",
    "upstream_node_to_sample_sc = np.where(\n",
    "    np.logical_and(\n",
    "        rmg_sc.at_node[\"drainage_area\"] > upstream_da_lowerbound * 1000000,\n",
    "        rmg_sc.at_node[\"drainage_area\"] < upstream_da_upperbound * 1000000,\n",
    "    )\n",
    ")[0][0]\n",
    "\n",
    "print(\n",
    "    \"Outlet Node = \"\n",
    "    + str(outlet_node_to_sample_sc)\n",
    "    + \"; Drainage Area= \"\n",
    "    + str(da_sc[outlet_node_to_sample_sc] / 1000000)\n",
    "    + \" km^2; Elev = \"\n",
    "    + str(round(z_sc[outlet_node_to_sample_sc], 1))\n",
    "    + \" m\"\n",
    ")\n",
    "print(\n",
    "    \"Midstream Node = \"\n",
    "    + str(midstream_node_to_sample_sc)\n",
    "    + \"; Drainage Area= \"\n",
    "    + str(da_sc[midstream_node_to_sample_sc] / 1000000)\n",
    "    + \" km^2; Elev = \"\n",
    "    + str(round(z_sc[midstream_node_to_sample_sc], 1))\n",
    "    + \" m\"\n",
    ")\n",
    "print(\n",
    "    \"Upstream Node = \"\n",
    "    + str(upstream_node_to_sample_sc)\n",
    "    + \"; Drainage Area= \"\n",
    "    + str(da_sc[upstream_node_to_sample_sc] / 1000000)\n",
    "    + \" km^2; Elev = \"\n",
    "    + str(round(z_sc[upstream_node_to_sample_sc], 1))\n",
    "    + \" m\"\n",
    ")"
   ]
  },
  {
   "cell_type": "code",
   "execution_count": null,
   "metadata": {},
   "outputs": [],
   "source": [
    "## Plot Spring Creek\n",
    "\n",
    "# Set up the figure.\n",
    "fig, ax = plt.subplots(nrows=1, ncols=1, figsize=(6, 6))\n",
    "ax.xaxis.set_visible(False)\n",
    "\n",
    "# Plot the DEM.\n",
    "imshow_grid(\n",
    "    rmg_sc,\n",
    "    z_sc,\n",
    "    plot_name=\"Spring Creek\",\n",
    "    var_name=\"Elevation\",\n",
    "    var_units=\"m\",\n",
    "    grid_units=(\"m\", \"m\"),\n",
    "    cmap=\"terrain\",\n",
    "    limits=(1875, 2615),\n",
    "    color_for_closed=\"white\",\n",
    ")\n",
    "ax.set_facecolor(\"white\")\n",
    "\n",
    "# Plot the sample nodes.\n",
    "ax.plot(\n",
    "    rmg_sc.node_x[outlet_node_to_sample_sc],\n",
    "    rmg_sc.node_y[outlet_node_to_sample_sc],\n",
    "    \"ro\",\n",
    "    label=\"outlet\",\n",
    ")\n",
    "ax.plot(\n",
    "    rmg_sc.node_x[midstream_node_to_sample_sc],\n",
    "    rmg_sc.node_y[midstream_node_to_sample_sc],\n",
    "    \"go\",\n",
    "    label=\"midstream\",\n",
    ")\n",
    "ax.plot(\n",
    "    rmg_sc.node_x[upstream_node_to_sample_sc],\n",
    "    rmg_sc.node_y[upstream_node_to_sample_sc],\n",
    "    \"bo\",\n",
    "    label=\"upstream\",\n",
    ")\n",
    "\n",
    "_ = ax.legend(loc=\"lower right\")"
   ]
  },
  {
   "cell_type": "markdown",
   "metadata": {},
   "source": [
    "<hr>\n",
    "\n",
    "# 4.0. Make Model Decisions \n",
    "\n",
    "We used the following runoff categories for this exercise, which can be changed by the user: \n",
    "  * `Base` has an intensity of 5.0 mm/hr, with a duration of 2 hr.\n",
    "  * `HigherIntensity` has an intensity of 10.0 mm/hr, with a duration of 2 hr.\n",
    "  * `LongerDuration` has an intensity of 5.0 mm/hr, with a duration of 4 hr. Longer duration is hardcoded as twice the storm duration of the base case. However it can be changed.\n",
    " \n",
    " Below you will indicate the domain, storm category, and algorithm you would like to use. You can change the runoff generation intesity and duration. Note that time is given in hours, and the model is run in *seconds*\n",
    " \n",
    "**Change your model with the options below**"
   ]
  },
  {
   "cell_type": "code",
   "execution_count": null,
   "metadata": {},
   "outputs": [],
   "source": [
    "basin_flag = \"Spring Creek\"  # 'Square' or 'Spring Creek'\n",
    "storm_flag = \"HigherIntensity\"  # 'Base' or'HigherIntensity' or 'LongerDuration'\n",
    "routing_method = (\n",
    "    \"KinwaveImplicitOverlandFlow\"\n",
    ")  # use 'OverlandFlow' OR 'KinwaveImplicitOverlandFlow'"
   ]
  },
  {
   "cell_type": "markdown",
   "metadata": {},
   "source": [
    "Advanced users only: if you know what you are doing, change the options below. "
   ]
  },
  {
   "cell_type": "code",
   "execution_count": null,
   "metadata": {},
   "outputs": [],
   "source": [
    "image_save = 1  # 1: save image; 0: don't save\n",
    "hours = 6  # hours of model run time\n",
    "Number_frames = 6  # number of frames to plot\n",
    "n = 0.03  # Manning's roughness coefficient, (s/m^(1/3))\n",
    "Base_runoff_rate = 10  # Base runoff rate (mm/h)\n",
    "HigherIntesity_runoff_rate = 20  # High intensity runoff rate (mm/h)\n",
    "Storm_duration = 2  # Storm duration (hours)\n",
    "dt = 600  # time step for `KinwaveImplicitOverlandFlow`, (s) [i.e., 10 minutes]"
   ]
  },
  {
   "cell_type": "markdown",
   "metadata": {},
   "source": [
    "<hr>\n",
    "\n",
    "## 5.0  Model Computations\n",
    "\n",
    "### 5.1. Initialize model run time and output variables used for plotting and animation \n",
    "\n",
    "The cell below is designed to set up the model with the decisions made in the cell above. Do not modify the cell unless necessary."
   ]
  },
  {
   "cell_type": "code",
   "execution_count": null,
   "metadata": {},
   "outputs": [],
   "source": [
    "# Convert time.\n",
    "elapsed_time = 1.0  # seconds\n",
    "model_run_time = hours * 3600  # converted to seconds\n",
    "\n",
    "# Set up the number of frames to be recorded for creating the animation.\n",
    "ani_inc = np.arange(\n",
    "    0, hours, np.true_divide(hours, Number_frames)\n",
    ")  # list of timesteps for animation\n",
    "snap = 0  # first snapshot for animation\n",
    "\n",
    "# Create lists for saving data.\n",
    "discharge_at_outlet = []\n",
    "discharge_upstream = []\n",
    "discharge_midstream = []\n",
    "hydrograph_time = []\n",
    "\n",
    "if basin_flag == \"Square\":\n",
    "    # watershed_dem = 'Square_TestBasin.asc'\n",
    "    outlet_node_to_sample = outlet_node_to_sample_sq\n",
    "    midstream_node_to_sample = midstream_node_to_sample_sq\n",
    "    upstream_node_to_sample = upstream_node_to_sample_sq\n",
    "\n",
    "    # Read in the DEM given the filename from above.\n",
    "    (rmg, z) = read_esri_ascii(watershed_dem_sq, name=\"topographic__elevation\")\n",
    "\n",
    "    # Set initial fields.\n",
    "    rmg[\"node\"][\"surface_water__discharge\"] = np.zeros(rmg.number_of_nodes)\n",
    "    rmg_sq.set_watershed_boundary_condition_outlet_id(\n",
    "        outlet_node_to_sample_sq, z_sq, -9999.0\n",
    "    )\n",
    "\n",
    "else:\n",
    "    # watershed_dem = 'SpringCreek_DEM.asc'\n",
    "    outlet_node_to_sample = outlet_node_to_sample_sc\n",
    "    midstream_node_to_sample = midstream_node_to_sample_sc\n",
    "    upstream_node_to_sample = upstream_node_to_sample_sc\n",
    "\n",
    "    # Read in the DEM given the filename from above.\n",
    "    (rmg, z) = read_esri_ascii(watershed_dem_sc, name=\"topographic__elevation\")\n",
    "\n",
    "    # Set initial fields.\n",
    "    rmg[\"node\"][\"surface_water__discharge\"] = np.zeros(rmg.number_of_nodes)\n",
    "\n",
    "    # Set boundary coditions on the grid.\n",
    "    rmg.set_watershed_boundary_condition(z)\n",
    "\n",
    "# Instantiate OverlandFlow object.\n",
    "if routing_method == \"OverlandFlow\":\n",
    "    of = OverlandFlow(rmg, alpha=0.15, mannings_n=n, steep_slopes=True)\n",
    "else:\n",
    "    kw = KinwaveImplicitOverlandFlow(rmg, runoff_rate=0.0, roughness=n, depth_exp=5 / 3)\n",
    "\n",
    "# Assign storm conditions based on flag in code cell above.\n",
    "if storm_flag == \"Base\":\n",
    "    runoff_mmhr = Base_runoff_rate\n",
    "    runoff_ms = runoff_mmhr * (2.77778 * 10 ** -7)\n",
    "    storm_duration = Storm_duration * 3600.0\n",
    "elif storm_flag == \"HigherIntensity\":\n",
    "    runoff_mmhr = HigherIntesity_runoff_rate\n",
    "    runoff_ms = runoff_mmhr * (2.77778 * 10 ** -7)\n",
    "    storm_duration = Storm_duration * 3600.0\n",
    "elif storm_flag == \"LongerDuration\":\n",
    "    runoff_mmhr = Base_runoff_rate\n",
    "    runoff_ms = runoff_mmhr * (2.77778 * 10 ** -7)\n",
    "    storm_duration = Storm_duration * 2 * 3600.0"
   ]
  },
  {
   "cell_type": "markdown",
   "metadata": {},
   "source": [
    "### 5.2. Run Overland Flow Model \n",
    "\n",
    "For each timestep, discharge is calculated at each node.  Using the depth slope product, shear stress is calculated at every node.  Outputs for each node include: water depth, discharge and shear stress values through time at every point in the input grid.  Read more on the [Landlab component description](https://landlab.readthedocs.io/en/release/landlab.components.overland_flow.html) by Jordan Adams.\n",
    "\n",
    "This make take up to 10 minutes to run for a six hour storm. The elapsed time (the simulated time, not run time) will print immediately below the code cell."
   ]
  },
  {
   "cell_type": "code",
   "execution_count": null,
   "metadata": {},
   "outputs": [],
   "source": [
    "animate_fig = plt.figure()\n",
    "animation_file_name = (\n",
    "    str(basin_flag) + \"_\" + str(storm_flag) + \"_\" + str(routing_method) + \".mp4\"\n",
    ")\n",
    "writer = animation.FFMpegWriter(fps=1)\n",
    "writer.setup(animate_fig, \"animation.mp4\")\n",
    "\n",
    "while elapsed_time < model_run_time:\n",
    "    # Set the adaptive time step.\n",
    "    if routing_method == \"OverlandFlow\":\n",
    "        of.dt = of.calc_time_step()\n",
    "\n",
    "    # The storm starts when the model starts. While the elapsed time is less\n",
    "    # than the storm duration, we add water to the system as runoff.\n",
    "    if routing_method == \"OverlandFlow\":\n",
    "\n",
    "        if elapsed_time < (storm_duration):\n",
    "            of.rainfall_intensity = runoff_ms\n",
    "        else:\n",
    "            # elapsed time exceeds the storm duration, rainfall ceases.\n",
    "            of.rainfall_intensity = 0.0\n",
    "\n",
    "    if routing_method == \"OverlandFlow\":\n",
    "        of.overland_flow()  # Generating overland flow based on the deAlmeida solution.\n",
    "        rmg.at_node[\"surface_water__discharge\"] = of.discharge_mapper(\n",
    "            of.q, convert_to_volume=True\n",
    "        )\n",
    "    else:\n",
    "        if elapsed_time < storm_duration:\n",
    "            kw.run_one_step(dt, current_time=elapsed_time, runoff_rate=runoff_ms)\n",
    "        else:\n",
    "            kw.run_one_step(dt, current_time=elapsed_time, runoff_rate=0.0)\n",
    "\n",
    "    if routing_method == \"OverlandFlow\":\n",
    "        discharge_at_outlet.append(\n",
    "            rmg.at_node[\"surface_water__discharge\"][outlet_node_to_sample]\n",
    "        )\n",
    "        discharge_midstream.append(\n",
    "            rmg.at_node[\"surface_water__discharge\"][midstream_node_to_sample]\n",
    "        )\n",
    "        discharge_upstream.append(\n",
    "            rmg.at_node[\"surface_water__discharge\"][upstream_node_to_sample]\n",
    "        )\n",
    "    else:\n",
    "        discharge_at_outlet.append(\n",
    "            rmg.at_node[\"surface_water_inflow__discharge\"][outlet_node_to_sample]\n",
    "        )\n",
    "        discharge_midstream.append(\n",
    "            rmg.at_node[\"surface_water_inflow__discharge\"][midstream_node_to_sample]\n",
    "        )\n",
    "        discharge_upstream.append(\n",
    "            rmg.at_node[\"surface_water_inflow__discharge\"][upstream_node_to_sample]\n",
    "        )\n",
    "\n",
    "    # Append time and discharge to their lists to save data and for plotting.\n",
    "    hydrograph_time.append(round(elapsed_time / 3600, 2))  # saved in hours\n",
    "\n",
    "    # Output time every now and then so that you know the code is actually running\n",
    "    # each time loop a new image is mapped. This sequence will build the animation.\n",
    "\n",
    "    if snap < len(ani_inc):\n",
    "        if (elapsed_time / 3600) > ani_inc[snap]:\n",
    "\n",
    "            print(\"elapsed time = \" + str(round(elapsed_time / 3600, 2)) + \" hours\")\n",
    "\n",
    "            imshow_grid(\n",
    "                rmg,\n",
    "                \"surface_water__depth\",\n",
    "                colorbar_label=\"Depth (m)\",\n",
    "                plot_name=\"Surface Water Depth\",\n",
    "                var_name=\"Water Depth\",\n",
    "                var_units=\"m\",\n",
    "                grid_units=(\"m\", \"m\"),\n",
    "                cmap=\"Blues\",\n",
    "                limits=(0, 0.5),\n",
    "            )\n",
    "            plt.title(\n",
    "                \"{} hours\".format(str(round(elapsed_time / 3600, 2))), fontsize=14\n",
    "            )\n",
    "\n",
    "            if image_save == 1:\n",
    "                plt.savefig(\n",
    "                    str(basin_flag)\n",
    "                    + \"_\"\n",
    "                    + str(storm_flag)\n",
    "                    + \"_\"\n",
    "                    + str(routing_method)\n",
    "                    + \"_\"\n",
    "                    + str(ani_inc[snap])\n",
    "                    + \"hr_map.png\",\n",
    "                    format=\"png\",\n",
    "                    dpi=2500,\n",
    "                )\n",
    "\n",
    "            writer.grab_frame()\n",
    "\n",
    "            snap += 1\n",
    "\n",
    "            # Remove the colorbar to reset the figure for the next animation timestep.\n",
    "            plt.gci().colorbar.remove()\n",
    "\n",
    "    # Update elapsed_time.\n",
    "    if routing_method == \"OverlandFlow\":\n",
    "        elapsed_time += of.dt\n",
    "    else:\n",
    "        elapsed_time += dt\n",
    "\n",
    "writer.finish()\n",
    "plt.close(animate_fig)\n",
    "\n",
    "# Display animation.\n",
    "HTML(\n",
    "    \"\"\"<div align=\"middle\"> <video width=\"80%\" controls loop><source src=\"animation.mp4\" type=\"video/mp4\"> </video></div>\"\"\"\n",
    ")"
   ]
  },
  {
   "cell_type": "markdown",
   "metadata": {},
   "source": [
    "See [this Landlab animation tutorial](https://github.com/landlab/tutorials/blob/master/plotting/animate-landlab-output.ipynb) for more on animating model output."
   ]
  },
  {
   "cell_type": "markdown",
   "metadata": {},
   "source": [
    "## 6.0 Results\n",
    "\n",
    "In this section you will create figures of the model simulations you ran above. You will plot hydrographs from modeled data at each location in the same figure for the selected study domain. In this plot you will notice differences in the time to peak and peak discharge magnitudes at different locations. You may also notice differences in the results generated by the two methods."
   ]
  },
  {
   "cell_type": "markdown",
   "metadata": {},
   "source": [
    "### 6.1. Plot hydrograph for one model result "
   ]
  },
  {
   "cell_type": "code",
   "execution_count": null,
   "metadata": {},
   "outputs": [],
   "source": [
    "hydrograph_fig = plt.figure(figsize=(12, 8))\n",
    "\n",
    "# Plot hydrograph series.\n",
    "plt.plot(hydrograph_time, discharge_at_outlet, \"r-\", label=\"outlet\", linewidth=4)\n",
    "plt.plot(hydrograph_time, discharge_midstream, \"g-\", label=\"midstream\", linewidth=3)\n",
    "plt.plot(hydrograph_time, discharge_upstream, \"b-\", label=\"upstream\", linewidth=2)\n",
    "\n",
    "# Configure plot elements.\n",
    "plt.ylabel(\"Discharge (cms)\", fontsize=18)\n",
    "plt.xlabel(\"Time (hours)\", fontsize=18)\n",
    "plt.legend(loc=\"upper right\", fontsize=18)\n",
    "title_text = (\n",
    "    \"Model=\" + str(basin_flag) + \" + \" + str(storm_flag) + \" + \" + routing_method\n",
    ")\n",
    "plt.title(title_text, fontsize=18)\n",
    "plt.ylim(0, 150)\n",
    "\n",
    "\n",
    "plt.savefig(\n",
    "    basin_flag + \"_\" + storm_flag + \"_\" + routing_method + \"_hydrograph.png\",\n",
    "    format=\"png\",\n",
    "    dpi=1000,\n",
    ")"
   ]
  },
  {
   "cell_type": "markdown",
   "metadata": {},
   "source": [
    "### 6.2. Show map for one model result at the time step of interest to you \n",
    "\n",
    "The code you ran above produced image files of model output. \n",
    "\n",
    "List the available image files printed in each model run. The files have a naming structure that includes the model time. Note that you will need to change the last line of the code block below get the file names for a given model.\n",
    "\n"
   ]
  },
  {
   "cell_type": "code",
   "execution_count": null,
   "metadata": {},
   "outputs": [],
   "source": [
    "print(\"Image file names:\\n\")\n",
    "\n",
    "# Change the shell script below to list all file names for a png based on your model (e.g., *png, Spring*png, or Square*png)\n",
    "#!ls Spring*png\n",
    "!ls Spring*png"
   ]
  },
  {
   "cell_type": "markdown",
   "metadata": {},
   "source": [
    "Choose and visualize an image file by changing the name of the image input to be consistent with the name of a image listed above. "
   ]
  },
  {
   "cell_type": "code",
   "execution_count": null,
   "metadata": {
    "scrolled": false
   },
   "outputs": [],
   "source": [
    "img = mgimg.imread(\n",
    "    fname=\"Spring Creek_HigherIntensity_KinwaveImplicitOverlandFlow_2.0hr_map.png\"\n",
    ")\n",
    "fig, ax = plt.subplots(figsize=(15, 15))\n",
    "ax.imshow(img)\n",
    "_ = plt.axis(\"off\")"
   ]
  },
  {
   "cell_type": "markdown",
   "metadata": {},
   "source": [
    "### 6.3. Save model results into a text file at the end of each model run \n",
    "\n",
    "If you want to explore the hydrographs created in this application in another software environment, you will run the code below to create a single .csv file that contains modeled hydrograps at each location in the watershed. Please run this code for each run you completed separately. The .csv file can be used in Excel, Matlab or any other software. The name of the new file will be printed.  "
   ]
  },
  {
   "cell_type": "code",
   "execution_count": null,
   "metadata": {},
   "outputs": [],
   "source": [
    "modeldata = pd.DataFrame()\n",
    "modeldata[\"Timestep\"] = hydrograph_time\n",
    "modeldata[\"outlet\"] = discharge_at_outlet\n",
    "modeldata[\"midstream\"] = discharge_midstream\n",
    "modeldata[\"upstream\"] = discharge_upstream\n",
    "header = {\"Timestep\", \"Outlet_cms\", \"Midstream_cms\", \"Upstream_cms\"}\n",
    "modeldata.to_csv(\n",
    "    str(basin_flag + \"_\" + storm_flag + \"_\" + routing_method + \"_flow.csv\"),\n",
    "    index=False,\n",
    "    header=header,\n",
    "    sep=\",\",\n",
    ")"
   ]
  },
  {
   "cell_type": "markdown",
   "metadata": {},
   "source": [
    "Now we will explore where your data is saved. First execute \"pwd\" (as below) to identify your working directory and copy the HydroShare resource ID (alpha numeric code) for future use. Next we will locate this directory. Go to the top left corner of your browser and find the CUAHSI logo. Right-click on the logo; this opens the file browser of your work space. Go to notebooks/data directory. There find your resource ID (alpha numeric code) and click on it. Follow the link until you get to data/contents. You can download these files to your own computer as you wish."
   ]
  },
  {
   "cell_type": "code",
   "execution_count": null,
   "metadata": {},
   "outputs": [],
   "source": [
    "pwd"
   ]
  },
  {
   "cell_type": "code",
   "execution_count": null,
   "metadata": {},
   "outputs": [],
   "source": [
    "print(\"The code you ran above produced image files of model output.\")\n",
    "print(\"The files have a naming structure that includes the model time. The files:\")\n",
    "\n",
    "# Change the shell script below to list all the file names for a png based on your model (e.g., *png, Spring*png, or Square*png).\n",
    "!ls *csv\n",
    "\n",
    "print(\"To download this file, go to the File Dashbard and browse the JupyterHub server\")"
   ]
  },
  {
   "cell_type": "markdown",
   "metadata": {},
   "source": [
    "\n",
    "**You completed the tutorial to run the model. You can now explore different routing methods and model parameters  by editing and re-executing sections by making model decisions (4.0), running the model (5.0) and saving results (6.0). Repeat as many model runs as you like and save all of your results before you start comparing results.**  \n",
    "\n"
   ]
  },
  {
   "cell_type": "markdown",
   "metadata": {},
   "source": [
    "## 7.0. Discussion \n",
    "\n",
    "In this section you will visualize results from your model runs to compare results obtained in the two study watersheds and begin writing your observations from model runs. In this section you may also generate more research questions to explore with the two models. You will also see how the two methods can yield different results."
   ]
  },
  {
   "cell_type": "markdown",
   "metadata": {},
   "source": [
    "### 7.1. Plot maps of water depth for two model runs  \n",
    "\n",
    "Choose two image files printed in each animation increment **from two different models** to compare at a timestep that is most interesting. \n",
    "\n",
    "**Note:** You will get the error `No such file or directory` following the code block below if you have not run the `OverlandFlow` option of the `routing_method`. In summary, you must the routing method, rerun the model, then the code block below can be run successfully."
   ]
  },
  {
   "cell_type": "code",
   "execution_count": null,
   "metadata": {},
   "outputs": [],
   "source": [
    "hydrograph_fig = plt.figure(figsize=(20, 18))\n",
    "ax1 = hydrograph_fig.add_subplot(221)\n",
    "fname1 = \"Square_HigherIntensity_OverlandFlow_3.0hr_map.png\"\n",
    "img1 = mgimg.imread(fname1)\n",
    "imgplot = plt.imshow(img1)\n",
    "ax1.axis(\"off\")\n",
    "\n",
    "# Plotting the hydrographs from the Spring Creek DEM at the outlet\n",
    "ax2 = hydrograph_fig.add_subplot(222)\n",
    "fname2 = \"Spring Creek_HigherIntensity_OverlandFlow_3.0hr_map.png\"\n",
    "img2 = mgimg.imread(fname2)\n",
    "imgplot = plt.imshow(img2)\n",
    "ax2.axis(\"off\")"
   ]
  },
  {
   "cell_type": "markdown",
   "metadata": {},
   "source": [
    "### 7.2. Plot hydrographs for two model runs  "
   ]
  },
  {
   "cell_type": "code",
   "execution_count": null,
   "metadata": {},
   "outputs": [],
   "source": [
    "# Here\n",
    "hydrograph_fig = plt.figure(figsize=(20, 20))\n",
    "ax1 = hydrograph_fig.add_subplot(221)\n",
    "fname1 = \"Spring Creek_HigherIntensity_KinwaveImplicitOverlandFlow_hydrograph.png\"\n",
    "img1 = mgimg.imread(fname1)\n",
    "imgplot = plt.imshow(img1)\n",
    "ax1.axis(\"off\")\n",
    "\n",
    "# Plot the hydrographs from the Spring Creek DEM at the outlet.\n",
    "ax2 = hydrograph_fig.add_subplot(222)\n",
    "fname2 = \"Spring Creek_HigherIntensity_OverlandFlow_hydrograph.png\"\n",
    "img2 = mgimg.imread(fname2)\n",
    "imgplot = plt.imshow(img2)\n",
    "ax2.axis(\"off\")"
   ]
  },
  {
   "cell_type": "markdown",
   "metadata": {},
   "source": [
    "## 8.0. Conclusions\n",
    "\n",
    "At this point in the notebook, you should have produced a plot of three hydrographs from different points in the Spring Creek watershed or in the Square domain, produced from overland flow driven by a select storm.\n",
    "\n",
    "There are six scenarios to explore: two different watersheds and three different storms, if you use the default parameters. If you explore different Manning's roughness values, run all six scenarios by systematically changing the `basin_flag` and `storm_flag` in Code Block 2 and rerunning all of the code blocks sequentially. Save the hydrograph plots for each scenario. \n",
    "\n",
    "### Directions if you are using this as a laboratory exercise\n",
    "\n",
    "Include the plots of hydrographs and mapped flow depths in a document with your typed answers to each of the questions below with complete sentences. Try to be as specific and as quantitative as you can. For example, you can compare times to peak discharge and peak discharge values among the scenarios. You are encouraged to discuss the results of the models with your classmates, but the text you turn in must be your own thoughts and words.\n",
    "\n",
    "1. What aspects of the hydrograph change at the outlet as the storm gets longer or more intense? Are there aspects of the outlet hydrograph that are not sensitive to the storm duration or intensity? Do the midstream and upstream hydrographs exhibit the same sensitivity to storm duration and intensity? Explain why.  \n",
    "\n",
    "2. What are the differences in the hydrograph response in the outlets of the two watersheds? How does the watershed shape influence the hydrograph shape?\n",
    "\n",
    "3. Now compare the hydrograph shapes across the three different locations in the watersheds. Compare only between similar points (e.g. mid or upstream locations) and between the same storm characteristics. How does watershed shape affect hydrograph shape? Does it impact all locations in the same manner? Do different storm characteristics exaggerate the differences between the different watersheds?\n",
    "\n",
    "4. Now compare the results between the two different watershed. How different are hydrograph characteristics between the square and natural watershed (Spring Creek)?\n",
    "\n",
    "5. Please compare your answers to the questions you answered before running the models. Do the model results match your intuition? If not, do you think your intuition was wrong, or the model was wrong, or both? Remember, models are helpful for learning but they are highly simplified representations of the real world. Without knowing the details of the model, does it seem like something is missing from your model results?"
   ]
  },
  {
   "cell_type": "markdown",
   "metadata": {},
   "source": [
    "## 9.0. Save the results in HydroShare\n",
    "<a name=\"creation\"></a>\n",
    "\n",
    "Using the HydroShare utilities library, the results of the Geoprocessing steps above can be saved in HydroShare.  First, define all of the required metadata for resource creation, i.e. *title*, *abstract*, *keywords*, *content files*.  In addition, we must define the type of resource that will be created, in this case *genericresource*."
   ]
  },
  {
   "cell_type": "markdown",
   "metadata": {},
   "source": [
    "### 9.1. List files to export to new HydroShare resource\n",
    "The name of files listed below need to be consistent with what exists in your file directory"
   ]
  },
  {
   "cell_type": "code",
   "execution_count": null,
   "metadata": {},
   "outputs": [],
   "source": [
    "ThisNotebook = \"explore_routing_tutorial.ipynb\"  # check name for consistency\n",
    "modelresults = \"Square_HigherIntensity_OverlandFlow_flow.csv\"\n",
    "animation = \"animation.mp4\"\n",
    "waterdepth = \"Square_HigherIntensity_OverlandFlow_3.0hr_map.png\"\n",
    "\n",
    "files = [ThisNotebook, modelresults, animation, waterdepth]"
   ]
  },
  {
   "cell_type": "markdown",
   "metadata": {},
   "source": [
    "### 9.2. Generate a new HydroShare resource with Title, Abstract, Keyword and files (listed above)\n",
    "\n",
    "The metadata can be edited from HydroShare once the new resource is created.  "
   ]
  },
  {
   "cell_type": "code",
   "execution_count": null,
   "metadata": {},
   "outputs": [],
   "source": [
    "# For each file downloaded onto the server folder, move to a new HydroShare Generic Resource.\n",
    "title = \"Test Delete\"\n",
    "abstract = \"abstract text \"\n",
    "keywords = [\"Landlab\", \"routing\"]\n",
    "rtype = \"genericresource\"\n",
    "\n",
    "# Create the new resource.\n",
    "resource_id = hs.createHydroShareResource(\n",
    "    abstract,\n",
    "    title,\n",
    "    keywords=keywords,\n",
    "    resource_type=rtype,\n",
    "    content_files=files,\n",
    "    public=False,\n",
    ")"
   ]
  },
  {
   "cell_type": "markdown",
   "metadata": {},
   "source": [
    "## 10.0 Clean up—be a good community data steward—thank you!\n",
    "Check that all of the files you want are saved on HydroShare. Then use shell scripting from the Notebook to view and delete data.  \n"
   ]
  },
  {
   "cell_type": "code",
   "execution_count": null,
   "metadata": {},
   "outputs": [],
   "source": [
    "# Print current working directory and make sure you are in the directory you want to clean up.\n",
    "!pwd\n",
    "\n",
    "# List files in directory with date of creation. Check that you do not need any of these files.\n",
    "!ls -lt"
   ]
  },
  {
   "cell_type": "code",
   "execution_count": null,
   "metadata": {},
   "outputs": [],
   "source": [
    "# Remove all files you created. This will not remove the Notebook you are using now.\n",
    "!rm *png\n",
    "!rm *mp4\n",
    "!rm *csv\n",
    "\n",
    "# List everything remaining in the folder - this should be only what you downloaded from\n",
    "# HydroShare. Note that all of this will be overwritten the next time you `Open With`\n",
    "# from the HydroShare webpage for this resource, execute the Welcome page, and answer\n",
    "# ‘Yes’ to download the data again from HydroShare.\n",
    "!ls -lt"
   ]
  }
 ],
 "metadata": {
  "anaconda-cloud": {},
  "kernelspec": {
   "display_name": "Python 3",
   "language": "python",
   "name": "python3"
  },
  "language_info": {
   "codemirror_mode": {
    "name": "ipython",
    "version": 3
   },
   "file_extension": ".py",
   "mimetype": "text/x-python",
   "name": "python",
   "nbconvert_exporter": "python",
   "pygments_lexer": "ipython3",
   "version": "3.6.5"
  }
 },
 "nbformat": 4,
 "nbformat_minor": 2
}
