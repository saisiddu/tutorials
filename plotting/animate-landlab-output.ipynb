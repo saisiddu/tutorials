{
 "cells": [
  {
   "cell_type": "markdown",
   "metadata": {},
   "source": [
    "<a href=\"http://landlab.github.io\"><img style=\"float: left\"\n",
    "src=\"https://raw.githubusercontent.com/landlab/tutorials/release/landlab_header.png\"></a>"
   ]
  },
  {
   "cell_type": "markdown",
   "metadata": {},
   "source": [
    "# Animate Landlab output\n",
    "<hr>\n",
    "\n",
    "<p><small>How to use IPython notebooks:\n",
    "<a href=\"https://github.com/landlab/tutorials/blob/release/README.md\">https://github.com/landlab/tutorials/blob/release/README.md</a></small></p>\n",
    "\n",
    "<p><small>More Landlab tutorials:\n",
    "<a href=\"https://github.com/landlab/landlab/wiki/Tutorials\">https://github.com/landlab/landlab/wiki/Tutorials</a></small></p>\n",
    "\n",
    "<hr>"
   ]
  },
  {
   "cell_type": "markdown",
   "metadata": {},
   "source": [
    "## Introduction\n",
    "This tutorial presents a workflow to animate model output. The workflow is presented in two phases of a Landlab model.\n",
    "\n",
    "This workflow requires software that might not be installed on your computer. The required software is open-source and freely available for Linux, MacOS, and Windows.\n",
    "* Phase 1: A mp4 video format is produced using FFMpeg (https://www.ffmpeg.org/download.html).\n",
    "* Phase 2: A gif video format is produced using ImageMagick (https://www.imagemagick.org/script/download.php).\n",
    "\n",
    "This software can also be installed using some package managers."
   ]
  },
  {
   "cell_type": "markdown",
   "metadata": {},
   "source": [
    "## Prepare the model for both phases\n",
    "\n",
    "#### Import the modules called by this tutorial."
   ]
  },
  {
   "cell_type": "code",
   "execution_count": null,
   "metadata": {},
   "outputs": [],
   "source": [
    "from landlab import RasterModelGrid\n",
    "from landlab.components import FastscapeEroder, FlowRouter\n",
    "from landlab.plot import channel_profile, imshow_grid\n",
    "import matplotlib.animation as animation\n",
    "import matplotlib.pylab as plt\n",
    "import numpy as np"
   ]
  },
  {
   "cell_type": "markdown",
   "metadata": {},
   "source": [
    "#### Create a grid, set boundary conditions, and initialize components."
   ]
  },
  {
   "cell_type": "code",
   "execution_count": null,
   "metadata": {},
   "outputs": [],
   "source": [
    "mg = RasterModelGrid((40, 40), 100)\n",
    "z = mg.add_zeros('node','topographic__elevation')\n",
    "z += np.random.rand(z.size)\n",
    "\n",
    "outlet_id = int(mg.number_of_node_columns * 0.5)\n",
    "mg.set_watershed_boundary_condition_outlet_id(outlet_id, z)\n",
    "mg.at_node['topographic__elevation'][outlet_id] = 0\n",
    "\n",
    "fr = FlowRouter(mg)\n",
    "sp = FastscapeEroder(mg, K_sp=3e-5, m_sp=0.5, n_sp=1)"
   ]
  },
  {
   "cell_type": "markdown",
   "metadata": {},
   "source": [
    "#### Set model time and uplift parameters."
   ]
  },
  {
   "cell_type": "code",
   "execution_count": null,
   "metadata": {},
   "outputs": [],
   "source": [
    "simulation_duration = 1e6\n",
    "dt = 1000\n",
    "n_timesteps = int(simulation_duration // dt) + 1\n",
    "timesteps = np.linspace(0, simulation_duration, n_timesteps,\n",
    "                        endpoint=True)\n",
    "\n",
    "uplift_rate = 0.001\n",
    "uplift_per_timestep = uplift_rate * dt"
   ]
  },
  {
   "cell_type": "markdown",
   "metadata": {},
   "source": [
    "## Phase 1: Animate elevation change using imshow_grid\n",
    "#### Animate simulated topography as it tends toward steady state.\n",
    "\n",
    "Before model timesteps are run, we prepare the animation:\n",
    "* create a matplotlib figure\n",
    "* initiate an animation writer using the matplotlib module, `animation`\n",
    "* use `FFMpegWriter` to create a mp4 movie\n",
    "* set up to animate 6 frames per second (fps)\n",
    "* prepare the animation writer with the function, `setup`\n",
    "* set the output movie file name to 'first_phase.mp4'"
   ]
  },
  {
   "cell_type": "code",
   "execution_count": null,
   "metadata": {},
   "outputs": [],
   "source": [
    "fig = plt.figure()\n",
    "writer = animation.FFMpegWriter(fps=6)\n",
    "writer.setup(fig, 'first_phase.mp4')"
   ]
  },
  {
   "cell_type": "markdown",
   "metadata": {},
   "source": [
    "#### Capture the figure to animate at timesteps.\n",
    "\n",
    "The method, `writer.grab_frame` captures the state of `fig` at designated timesteps. "
   ]
  },
  {
   "cell_type": "code",
   "execution_count": null,
   "metadata": {
    "scrolled": false
   },
   "outputs": [],
   "source": [
    "for t in timesteps:\n",
    "\n",
    "    # Capture an animation frame every 50,000 years.\n",
    "    if t % 5e4 == 0:\n",
    "        imshow_grid(mg, z, colorbar_label='elevation (m)')\n",
    "        plt.title('{:.0f} kiloyears'.format(t * 1e-3),\n",
    "                  fontsize=14) \n",
    "\n",
    "        writer.grab_frame()\n",
    "\n",
    "        # Remove the colorbar to reset the figure for the next animation timestep.\n",
    "        plt.gci().colorbar.remove()\n",
    "\n",
    "    # Uplift and erode.\n",
    "    z[mg.core_nodes] += uplift_per_timestep\n",
    "    fr.run_one_step()\n",
    "    sp.run_one_step(dt)"
   ]
  },
  {
   "cell_type": "markdown",
   "metadata": {},
   "source": [
    "#### Finish the animation.\n",
    "\n",
    "The method, `writer.finish` completes the processing of the movie and saves then it."
   ]
  },
  {
   "cell_type": "code",
   "execution_count": null,
   "metadata": {},
   "outputs": [],
   "source": [
    "writer.finish()"
   ]
  },
  {
   "cell_type": "markdown",
   "metadata": {},
   "source": [
    "This code loads the saved mp4 and presents it in a browser in an IPython session."
   ]
  },
  {
   "cell_type": "code",
   "execution_count": null,
   "metadata": {},
   "outputs": [],
   "source": [
    "from IPython.display import HTML\n",
    "\n",
    "HTML(\"\"\"<div align=\"middle\"> <video width=\"80%\" controls loop>\n",
    "     <source src=\"first_phase.mp4\" type=\"video/mp4\"> </video></div>\"\"\")"
   ]
  },
  {
   "cell_type": "markdown",
   "metadata": {},
   "source": [
    "## Phase 2: Animate visualizations of elevation change in subplots\n",
    "Uplift rate is increased instantaineously prior to running the second phase of the model."
   ]
  },
  {
   "cell_type": "code",
   "execution_count": null,
   "metadata": {},
   "outputs": [],
   "source": [
    "increased_uplift_per_timestep = 10 * uplift_per_timestep"
   ]
  },
  {
   "cell_type": "markdown",
   "metadata": {},
   "source": [
    "#### Define a plotting function.\n",
    "\n",
    "The function, `plot_hypsometry` plots normalized drainage area versus normalized elevation of a channel. The channel nodes are identified using the `channel_profile` Landlab tool."
   ]
  },
  {
   "cell_type": "code",
   "execution_count": null,
   "metadata": {},
   "outputs": [],
   "source": [
    "def plot_hypsometry(fig_axes, grid, initial=False):\n",
    "    at_node = grid.at_node\n",
    "    A = at_node['drainage_area']\n",
    "    chan_nodes = channel_profile.channel_nodes(\n",
    "        grid,\n",
    "        at_node['topographic__steepest_slope'],\n",
    "        A, at_node['flow__receiver_node'])\n",
    "    \n",
    "    # Normalize parameters.\n",
    "    A_pro = A[chan_nodes]\n",
    "    A_norm = (A_pro - A_pro.min()) / (A_pro.max() - A_pro.min())\n",
    "    z_pro = z[chan_nodes]\n",
    "    z_norm = (z_pro - z_pro.min()) / (z_pro.max() - z_pro.min())\n",
    "\n",
    "    if initial:\n",
    "        color = 'r:'\n",
    "        label = 'initial'\n",
    "    else:\n",
    "        color = 'k'\n",
    "        label = 'current timestep'\n",
    "    fig_axes.plot(A_norm, z_norm, color, label=label)\n",
    "    fig_axes.set_xlabel('relative area (a/A)')\n",
    "    fig_axes.set_ylabel('relative height (h/H)')\n",
    "    \n",
    "    return fig_axes.lines"
   ]
  },
  {
   "cell_type": "markdown",
   "metadata": {},
   "source": [
    "#### Set up a figure with two subplots.\n",
    "\n",
    "`axes[0]` and `axes[1]` refer to the first and second subplot, respectively."
   ]
  },
  {
   "cell_type": "code",
   "execution_count": null,
   "metadata": {},
   "outputs": [],
   "source": [
    "fig2, axes = plt.subplots(1, 2, figsize=(12, 5))    \n",
    "fig2.subplots_adjust(wspace=0.3, top=0.85)\n",
    "axes[0].set_title('topography')\n",
    "axes[1].set_title('hypsometry')"
   ]
  },
  {
   "cell_type": "markdown",
   "metadata": {},
   "source": [
    "#### Set up a movie file.\n",
    "\n",
    "A gif formatted movie is created in this model phase using the software, ImageMagick."
   ]
  },
  {
   "cell_type": "code",
   "execution_count": null,
   "metadata": {},
   "outputs": [],
   "source": [
    "writer = animation.ImageMagickWriter(fps=6)\n",
    "writer.setup(fig2, 'second_phase.gif')"
   ]
  },
  {
   "cell_type": "markdown",
   "metadata": {},
   "source": [
    "#### Plot the hypsometry baseline.\n",
    "\n",
    "The initial hyposometry is kept on the second subplot to help visualize how hyposometry has changed during the simulation."
   ]
  },
  {
   "cell_type": "code",
   "execution_count": null,
   "metadata": {},
   "outputs": [],
   "source": [
    "_ = plot_hypsometry(axes[1], mg, initial=True)"
   ]
  },
  {
   "cell_type": "markdown",
   "metadata": {},
   "source": [
    "#### Capture the figure to animate at timesteps.\n",
    "\n",
    "The simulation is ran for another 1,000,000 years."
   ]
  },
  {
   "cell_type": "code",
   "execution_count": null,
   "metadata": {},
   "outputs": [],
   "source": [
    "for t in timesteps:\n",
    " \n",
    "    # Capture an animation frame every 50,000 years.\n",
    "    if t % 5e4 == 0:\n",
    "        fig2.sca(axes[0])\n",
    "        imshow_grid(mg, z, colorbar_label='elevation (m)')\n",
    "        colorbar = plt.gci().colorbar\n",
    "\n",
    "        hysometric_line = plot_hypsometry(axes[1], mg)\n",
    "\n",
    "        fig2.suptitle('{:.0f} kiloyears'.format(t * 1e-3),\n",
    "                 fontsize=14)  \n",
    "\n",
    "        # Add the legend to the second subplot only once.\n",
    "        if t == 0: \n",
    "            _ = axes[1].legend()\n",
    "            \n",
    "        writer.grab_frame()\n",
    "\n",
    "        # Reset the figure for the next animation timestep.\n",
    "        colorbar.remove()        \n",
    "        del hysometric_line[-1]\n",
    "\n",
    "    # Uplift and erode.\n",
    "    z[mg.core_nodes] += increased_uplift_per_timestep\n",
    "    fr.run_one_step()\n",
    "    sp.run_one_step(dt)\n",
    "    \n",
    "writer.finish()"
   ]
  },
  {
   "cell_type": "markdown",
   "metadata": {},
   "source": [
    "This code loads the saved gif and presents it in a browser in an IPython session."
   ]
  },
  {
   "cell_type": "code",
   "execution_count": null,
   "metadata": {
    "scrolled": true
   },
   "outputs": [],
   "source": [
    "from IPython.display import Image\n",
    "Image(filename='second_phase.gif') "
   ]
  },
  {
   "cell_type": "markdown",
   "metadata": {},
   "source": [
    "### Click here for more <a href=\"https://github.com/landlab/landlab/wiki/Tutorials\">Landlab tutorials</a>"
   ]
  }
 ],
 "metadata": {
  "kernelspec": {
   "display_name": "Python 3",
   "language": "python",
   "name": "python3"
  },
  "language_info": {
   "codemirror_mode": {
    "name": "ipython",
    "version": 3
   },
   "file_extension": ".py",
   "mimetype": "text/x-python",
   "name": "python",
   "nbconvert_exporter": "python",
   "pygments_lexer": "ipython3",
   "version": "3.6.4"
  }
 },
 "nbformat": 4,
 "nbformat_minor": 2
}
