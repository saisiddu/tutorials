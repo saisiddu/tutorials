{
 "cells": [
  {
   "cell_type": "markdown",
   "metadata": {},
   "source": [
    "# Retrieve NetCDF and model gridded climate time-series for a watershed\n",
    "\n",
    "### Case study:  the Sauk-Suiattle Watershed\n",
    "<img src=\"http://www.sauk-suiattle.com/images/Elliott.jpg\" \n",
    "style=\"float:right;width:150px;padding:20px\">\n",
    "\n",
    "### Use this Jupyter Notebook to:\n",
    "    1. HydroShare setup and preparation\n",
    "    2. Re-establish the paths to the mapping file\n",
    "    3. Compute daily, monthly, and annual temperature and precipitation statistics\n",
    "    4. Visualize precipitation results relative to the forcing data\n",
    "    5. Visualize the time-series trends\n",
    "    6. Save results back into HydroShare\n",
    "\n",
    "<br/><br/><br/>\n",
    "<img src=\"https://www.washington.edu/brand/files/2014/09/W-Logo_Purple_Hex.png\"\n",
    "style=\"float:right;width:150px;padding:20px\">\n",
    "\n",
    "<br/><br/>\n",
    "#### This data is compiled to digitally observe the watersheds, powered by HydroShare. <br/>Provided by the Watershed Dynamics Group, Dept. of Civil and Environmental Engineering, University of Washington"
   ]
  },
  {
   "cell_type": "markdown",
   "metadata": {},
   "source": [
    "## 1.  Prepare HydroShare Setup and Preparation\n",
    "\n",
    "To run this notebook, we must import several libaries. These are listed in order of 1) Python standard libraries, 2) hs_utils library provides functions for interacting with HydroShare, including resource querying, dowloading and creation, and 3) the observatory_gridded_hydromet library that is downloaded with this notebook. "
   ]
  },
  {
   "cell_type": "code",
   "execution_count": 1,
   "metadata": {},
   "outputs": [],
   "source": [
    "# silencing warning\n",
    "# data processing\n",
    "import os\n",
    "import warnings\n",
    "\n",
    "import dask\n",
    "\n",
    "# plotting and shape libraries\n",
    "import matplotlib.pyplot as plt\n",
    "import numpy as np\n",
    "\n",
    "# data migration library\n",
    "import ogh\n",
    "import pandas as pd\n",
    "from landlab import CLOSED_BOUNDARY, imshow_grid\n",
    "\n",
    "import ogh_xarray_landlab as oxl\n",
    "from ecohydrology_model_functions import plot_results, run_ecohydrology_model\n",
    "from utilities import hydroshare\n",
    "\n",
    "warnings.filterwarnings(\"ignore\")\n",
    "\n",
    "\n",
    "input_file = \"ecohyd_inputs.yaml\"\n",
    "\n",
    "%matplotlib inline"
   ]
  },
  {
   "cell_type": "code",
   "execution_count": 2,
   "metadata": {},
   "outputs": [
    {
     "data": {
      "text/plain": [
       "['dailymet_bclivneh2013',\n",
       " 'dailymet_livneh2013',\n",
       " 'dailymet_livneh2015',\n",
       " 'dailyvic_livneh2013',\n",
       " 'dailyvic_livneh2015',\n",
       " 'dailywrf_bcsalathe2014',\n",
       " 'dailywrf_salathe2014']"
      ]
     },
     "execution_count": 2,
     "metadata": {},
     "output_type": "execute_result"
    }
   ],
   "source": [
    "# initialize ogh_meta\n",
    "meta_file = dict(ogh.ogh_meta())\n",
    "sorted(meta_file.keys())"
   ]
  },
  {
   "cell_type": "markdown",
   "metadata": {},
   "source": [
    "Establish a secure connection with HydroShare by instantiating the hydroshare class that is defined within hs_utils. In addition to connecting with HydroShare, this command also sets and prints environment variables for several parameters that will be useful for saving work back to HydroShare. "
   ]
  },
  {
   "cell_type": "code",
   "execution_count": 4,
   "metadata": {
    "scrolled": false
   },
   "outputs": [
    {
     "name": "stdout",
     "output_type": "stream",
     "text": [
      "Adding the following system variables:\n",
      "   HS_USR_NAME = jphuong\n",
      "   HS_RES_ID = 70b977e22af544f8a7e5a803935c329c\n",
      "   HS_RES_TYPE = genericresource\n",
      "   JUPYTER_HUB_IP = jupyter.cuahsi.org\n",
      "\n",
      "These can be accessed using the following command: \n",
      "   os.environ[key]\n",
      "\n",
      "   (e.g.)\n",
      "   os.environ[\"HS_USR_NAME\"]  => jphuong\n",
      "Successfully established a connection with HydroShare\n"
     ]
    }
   ],
   "source": [
    "notebookdir = os.getcwd()\n",
    "\n",
    "hs = hydroshare.hydroshare()\n",
    "homedir = hs.getContentPath(os.environ[\"HS_RES_ID\"])\n",
    "os.chdir(homedir)"
   ]
  },
  {
   "cell_type": "markdown",
   "metadata": {},
   "source": [
    "If you are curious about where the data is being downloaded, click on the Jupyter Notebook dashboard icon to return to the File System view.  The homedir directory location printed above is where you can find the data and contents you will download to a HydroShare JupyterHub server.  At the end of this work session, you can migrate this data to the HydroShare iRods server as a Generic Resource. "
   ]
  },
  {
   "cell_type": "markdown",
   "metadata": {},
   "source": [
    "## 2. Get list of gridded climate points for the watershed\n",
    "\n",
    "For visualization purposes, we will also remap the study site shapefile, which is stored in HydroShare at the following url: https://www.hydroshare.org/resource/c532e0578e974201a0bc40a37ef2d284/. Since the shapefile was previously migrated, we can select 'N' for no overwriting.\n",
    "\n",
    "In the usecase1 notebook, the treatgeoself function identified the gridded cell centroid coordinates that overlap with our study site. These coordinates were documented within the mapping file, which will be remapped here. In the usecase2 notebook, the downloaded files were cataloged within the mapping file, so we will use the mappingfileSummary function to characterize the files available for Sauk-Suiattle for each gridded data product."
   ]
  },
  {
   "cell_type": "code",
   "execution_count": 5,
   "metadata": {
    "scrolled": true
   },
   "outputs": [
    {
     "name": "stdout",
     "output_type": "stream",
     "text": [
      "This resource already exists in your userspace.\n",
      "ef2d82bf960144b4bfb1bae6242bcc7f/\n",
      "|-- ef2d82bf960144b4bfb1bae6242bcc7f/\n",
      "|   |-- bagit.txt\n",
      "|   |-- manifest-md5.txt\n",
      "|   |-- readme.txt\n",
      "|   |-- tagmanifest-md5.txt\n",
      "|   |-- data/\n",
      "|   |   |-- resourcemap.xml\n",
      "|   |   |-- resourcemetadata.xml\n",
      "|   |   |-- contents/\n",
      "|   |   |   |-- NAmer_dem_list.cpg\n",
      "|   |   |   |-- NAmer_dem_list.dbf\n",
      "|   |   |   |-- NAmer_dem_list.prj\n",
      "|   |   |   |-- NAmer_dem_list.sbn\n",
      "|   |   |   |-- NAmer_dem_list.sbx\n",
      "|   |   |   |-- NAmer_dem_list.shp\n",
      "|   |   |   |-- NAmer_dem_list.shx\n",
      "\n",
      "Do you want to overwrite these data [Y/n]? n\n"
     ]
    },
    {
     "data": {
      "text/html": [
       "<b>Found the following file(s) associated with this HydroShare resource.</b>"
      ],
      "text/plain": [
       "<IPython.core.display.HTML object>"
      ]
     },
     "metadata": {},
     "output_type": "display_data"
    },
    {
     "data": {
      "text/html": [
       "NAmer_dem_list.cpg<br>NAmer_dem_list.dbf<br>NAmer_dem_list.prj<br>NAmer_dem_list.sbn<br>NAmer_dem_list.sbx<br>NAmer_dem_list.shp<br>NAmer_dem_list.shx"
      ],
      "text/plain": [
       "<IPython.core.display.HTML object>"
      ]
     },
     "metadata": {},
     "output_type": "display_data"
    },
    {
     "data": {
      "text/html": [
       "These files are stored in a dictionary called <b>hs.content</b> for your convenience.  To access a file, simply issue the following command where MY_FILE is one of the files listed above: <pre>hs.content[\"MY_FILE\"] </pre> "
      ],
      "text/plain": [
       "<IPython.core.display.HTML object>"
      ]
     },
     "metadata": {},
     "output_type": "display_data"
    },
    {
     "name": "stdout",
     "output_type": "stream",
     "text": [
      "This resource already exists in your userspace.\n",
      "c532e0578e974201a0bc40a37ef2d284/\n",
      "|-- c532e0578e974201a0bc40a37ef2d284/\n",
      "|   |-- bagit.txt\n",
      "|   |-- manifest-md5.txt\n",
      "|   |-- readme.txt\n",
      "|   |-- tagmanifest-md5.txt\n",
      "|   |-- data/\n",
      "|   |   |-- resourcemap.xml\n",
      "|   |   |-- resourcemetadata.xml\n",
      "|   |   |-- contents/\n",
      "|   |   |   |-- wbdhub12_17110006_WGS84_Basin.cpg\n",
      "|   |   |   |-- wbdhub12_17110006_WGS84_Basin.shp\n",
      "|   |   |   |-- wbdhub12_17110006_WGS84_Basin.shx\n",
      "|   |   |   |-- wbdhub12_17110006_WGS84_Basin.dbf\n",
      "|   |   |   |-- wbdhub12_17110006_WGS84_Basin.prj\n",
      "\n",
      "Do you want to overwrite these data [Y/n]? n\n"
     ]
    },
    {
     "data": {
      "text/html": [
       "<b>Found the following file(s) associated with this HydroShare resource.</b>"
      ],
      "text/plain": [
       "<IPython.core.display.HTML object>"
      ]
     },
     "metadata": {},
     "output_type": "display_data"
    },
    {
     "data": {
      "text/html": [
       "wbdhub12_17110006_WGS84_Basin.cpg<br>wbdhub12_17110006_WGS84_Basin.shp<br>wbdhub12_17110006_WGS84_Basin.shx<br>wbdhub12_17110006_WGS84_Basin.dbf<br>wbdhub12_17110006_WGS84_Basin.prj"
      ],
      "text/plain": [
       "<IPython.core.display.HTML object>"
      ]
     },
     "metadata": {},
     "output_type": "display_data"
    },
    {
     "data": {
      "text/html": [
       "These files are stored in a dictionary called <b>hs.content</b> for your convenience.  To access a file, simply issue the following command where MY_FILE is one of the files listed above: <pre>hs.content[\"MY_FILE\"] </pre> "
      ],
      "text/plain": [
       "<IPython.core.display.HTML object>"
      ]
     },
     "metadata": {},
     "output_type": "display_data"
    }
   ],
   "source": [
    "\"\"\"\n",
    "1/16-degree Gridded cell centroids\n",
    "\"\"\"\n",
    "# List of available data\n",
    "hs.getResourceFromHydroShare(\"ef2d82bf960144b4bfb1bae6242bcc7f\")\n",
    "NAmer = hs.content[\"NAmer_dem_list.shp\"]\n",
    "\n",
    "\n",
    "\"\"\"\n",
    "Sauk\n",
    "\"\"\"\n",
    "# Watershed extent\n",
    "hs.getResourceFromHydroShare(\"c532e0578e974201a0bc40a37ef2d284\")\n",
    "sauk = hs.content[\"wbdhub12_17110006_WGS84_Basin.shp\"]\n",
    "\n",
    "# reproject the shapefile into WGS84\n",
    "ogh.reprojShapefile(sourcepath=sauk)"
   ]
  },
  {
   "cell_type": "markdown",
   "metadata": {},
   "source": [
    "### Summarize the file availability from each watershed mapping file"
   ]
  },
  {
   "cell_type": "code",
   "execution_count": 6,
   "metadata": {},
   "outputs": [
    {
     "name": "stdout",
     "output_type": "stream",
     "text": [
      "(99, 4)\n",
      "   FID       LAT      LONG_    ELEV\n",
      "0    0  48.53125 -121.59375  1113.0\n",
      "1    1  48.46875 -121.46875   646.0\n",
      "2    2  48.46875 -121.53125   321.0\n",
      "3    3  48.46875 -121.59375   164.0\n",
      "4    4  48.46875 -121.65625   369.0\n",
      "CPU times: user 17.1 s, sys: 479 ms, total: 17.6 s\n",
      "Wall time: 17.7 s\n"
     ]
    }
   ],
   "source": [
    "%%time\n",
    "\n",
    "# map the mappingfiles from usecase1\n",
    "mappingfile1 = ogh.treatgeoself(\n",
    "    shapefile=sauk,\n",
    "    NAmer=NAmer,\n",
    "    buffer_distance=0.06,\n",
    "    mappingfile=os.path.join(homedir, \"Sauk_mappingfile.csv\"),\n",
    ")"
   ]
  },
  {
   "cell_type": "markdown",
   "metadata": {},
   "source": [
    "## 3.  Compare Hydrometeorology \n",
    "\n",
    "This section performs computations and generates plots of the Livneh 2013 and Salathe 2014 mean temperature and mean total monthly precipitation in order to compare them with each other. The generated plots are automatically downloaded and saved as .png files within the \"homedir\" directory.\n",
    "\n",
    "Let's compare the Livneh 2013 and Salathe 2014 using the period of overlapping history."
   ]
  },
  {
   "cell_type": "code",
   "execution_count": 7,
   "metadata": {},
   "outputs": [
    {
     "name": "stdout",
     "output_type": "stream",
     "text": [
      "Help on function getDailyMET_livneh2013 in module ogh.ogh:\n",
      "\n",
      "getDailyMET_livneh2013(homedir, mappingfile, subdir='livneh2013/Daily_MET_1915_2011/raw', catalog_label='dailymet_livneh2013')\n",
      "    Get the Livneh el al., 2013 Daily Meteorology files of interest using the reference mapping file\n",
      "    \n",
      "    homedir: (dir) the home directory to be used for establishing subdirectories\n",
      "    mappingfile: (dir) the file path to the mappingfile, which contains the LAT, LONG_, and ELEV coordinates of interest\n",
      "    subdir: (dir) the subdirectory to be established under homedir\n",
      "    catalog_label: (str) the preferred name for the series of catalogged filepaths\n",
      "\n"
     ]
    }
   ],
   "source": [
    "help(ogh.getDailyMET_livneh2013)"
   ]
  },
  {
   "cell_type": "code",
   "execution_count": 8,
   "metadata": {},
   "outputs": [
    {
     "name": "stdout",
     "output_type": "stream",
     "text": [
      "Help on function get_x_dailymet_Livneh2013_raw in module ogh_xarray_landlab:\n",
      "\n",
      "get_x_dailymet_Livneh2013_raw(homedir, spatialbounds, subdir='livneh2013/Daily_MET_1915_2011/raw_netcdf', nworkers=4, start_date='1915-01-01', end_date='2011-12-31', rename_timelatlong_names={'lat': 'LAT', 'lon': 'LON', 'time': 'TIME'}, file_prefix='sp_', replace_file=True)\n",
      "    get Daily MET data from Livneh et al. (2013) using xarray on netcdf files\n",
      "\n"
     ]
    }
   ],
   "source": [
    "help(oxl.get_x_dailymet_Livneh2013_raw)"
   ]
  },
  {
   "cell_type": "markdown",
   "metadata": {},
   "source": [
    "## NetCDF retrieval and clipping to a spatial extent\n",
    "\n",
    "The function get_x_dailywrf_salathe2014 retrieves and clips NetCDF files archived within the UW Rocinante NNRP repository. This archive contains daily data from January 1970 through December 1979 (10 years). Each netcdf file is comprised of meteorologic and VIC hydrologic outputs for a calendar month. The expected number of files would be 360 files (12 months for 30 years). \n",
    "\n",
    "In the code chunk below, 40 parallel workers will be initialized to distribute file retrieval and spatial clipping tasks. For each worker, they will wget the requested file, clip the netcdf file to gridded cell centroids within the the provided bounding box, then return the location of the spatially clipped output files.\n",
    "\n",
    "Provide the home and subdirectory where the cropped NetCDF files will be stored. Also provide the spatial bounds (in WGS84) to crop the NetCDF files upon download. Finally, provide the number of workers to carry out the download tasks, and the start and end date of the files of interest."
   ]
  },
  {
   "cell_type": "code",
   "execution_count": 9,
   "metadata": {},
   "outputs": [
    {
     "name": "stdout",
     "output_type": "stream",
     "text": [
      "Number of gridded data files:99\n",
      "Minimum elevation: 164.0m\n",
      "Mean elevation: 1151.040404040404m\n",
      "Maximum elevation: 2216.0m\n",
      "[                                        ] | 0% Completed | 19.7sMeteorology_Livneh_CONUSExt_v.1.2_2013.197008.nc unzipped\n",
      "[                                        ] | 0% Completed | 24.8sMeteorology_Livneh_CONUSExt_v.1.2_2013.197009.nc unzipped\n",
      "Meteorology_Livneh_CONUSExt_v.1.2_2013.197005.nc unzipped\n",
      "Meteorology_Livneh_CONUSExt_v.1.2_2013.197004.nc unzipped\n",
      "Meteorology_Livneh_CONUSExt_v.1.2_2013.197012.nc unzipped\n",
      "Meteorology_Livneh_CONUSExt_v.1.2_2013.197007.nc unzipped\n",
      "[####################                    ] | 50% Completed | 48.6sMeteorology_Livneh_CONUSExt_v.1.2_2013.197002.nc unzipped\n",
      "Meteorology_Livneh_CONUSExt_v.1.2_2013.197010.nc unzipped\n",
      "Meteorology_Livneh_CONUSExt_v.1.2_2013.197006.nc unzipped\n",
      "Meteorology_Livneh_CONUSExt_v.1.2_2013.197001.nc unzipped\n",
      "Meteorology_Livneh_CONUSExt_v.1.2_2013.197011.nc unzipped\n",
      "Meteorology_Livneh_CONUSExt_v.1.2_2013.197003.nc unzipped\n",
      "[########################################] | 100% Completed | 49.0s\n"
     ]
    }
   ],
   "source": [
    "maptable, nstations = ogh.mappingfileToDF(mappingfile1)\n",
    "spatialbounds = {\n",
    "    \"minx\": maptable.LONG_.min(),\n",
    "    \"maxx\": maptable.LONG_.max(),\n",
    "    \"miny\": maptable.LAT.min(),\n",
    "    \"maxy\": maptable.LAT.max(),\n",
    "}\n",
    "\n",
    "outputfiles = oxl.get_x_dailymet_Livneh2013_raw(\n",
    "    homedir=homedir,\n",
    "    subdir=\"livneh2013/Daily_MET_1970_1970/raw_netcdf\",\n",
    "    spatialbounds=spatialbounds,\n",
    "    nworkers=6,\n",
    "    start_date=\"1970-01-01\",\n",
    "    end_date=\"1970-12-31\",\n",
    ")"
   ]
  },
  {
   "cell_type": "markdown",
   "metadata": {},
   "source": [
    "### Convert collection of NetCDF files into a collection of ASCII files\n",
    "\n",
    "Provide the home and subdirectory where the ASCII files will be stored, the source_directory of netCDF files, and the mapping file to which the resulting ASCII files will be cataloged. Also, provide the Pandas Datetime code for the frequency of the time steps. Finally, provide the catalog label that will be used for the mapping file catalog and the metadata file label."
   ]
  },
  {
   "cell_type": "code",
   "execution_count": 10,
   "metadata": {},
   "outputs": [
    {
     "name": "stdout",
     "output_type": "stream",
     "text": [
      "[########################################] | 100% Completed |  0.1s\n",
      "[########################################] | 100% Completed |  0.1s\n",
      "[########################################] | 100% Completed |  0.1s\n",
      "[########################################] | 100% Completed |  0.1s\n",
      "[########################################] | 100% Completed |  1.0s\n",
      "[########################################] | 100% Completed |  1.1s\n",
      "CPU times: user 1.75 s, sys: 398 ms, total: 2.15 s\n",
      "Wall time: 2.52 s\n"
     ]
    }
   ],
   "source": [
    "%%time\n",
    "# convert the netCDF files into daily ascii time-series files for each gridded location\n",
    "outfilelist = oxl.netcdf_to_ascii(\n",
    "    homedir=homedir,\n",
    "    subdir=\"livneh2013/Daily_MET_1970_1970/raw_ascii\",\n",
    "    source_directory=os.path.join(homedir, \"livneh2013/Daily_MET_1970_1970/raw_netcdf\"),\n",
    "    mappingfile=mappingfile1,\n",
    "    temporal_resolution=\"D\",\n",
    "    meta_file=meta_file,\n",
    "    catalog_label=\"sp_dailymet_livneh_1970_1970\",\n",
    ")"
   ]
  },
  {
   "cell_type": "code",
   "execution_count": 11,
   "metadata": {},
   "outputs": [
    {
     "data": {
      "text/html": [
       "<div>\n",
       "<style scoped>\n",
       "    .dataframe tbody tr th:only-of-type {\n",
       "        vertical-align: middle;\n",
       "    }\n",
       "\n",
       "    .dataframe tbody tr th {\n",
       "        vertical-align: top;\n",
       "    }\n",
       "\n",
       "    .dataframe thead tr th {\n",
       "        text-align: left;\n",
       "    }\n",
       "</style>\n",
       "<table border=\"1\" class=\"dataframe\">\n",
       "  <thead>\n",
       "    <tr>\n",
       "      <th>Watershed</th>\n",
       "      <th>Sauk-Suiattle river</th>\n",
       "    </tr>\n",
       "    <tr>\n",
       "      <th>Median elevation in meters [range](Number of gridded cells)</th>\n",
       "      <th>1171[164-2216] (n=99)</th>\n",
       "    </tr>\n",
       "  </thead>\n",
       "  <tbody>\n",
       "    <tr>\n",
       "      <th>sp_dailymet_livneh_1970_1970</th>\n",
       "      <td>1171[164-2216] (n=99)</td>\n",
       "    </tr>\n",
       "  </tbody>\n",
       "</table>\n",
       "</div>"
      ],
      "text/plain": [
       "Watershed                                                      Sauk-Suiattle river\n",
       "Median elevation in meters [range](Number of gridded cells)  1171[164-2216] (n=99)\n",
       "sp_dailymet_livneh_1970_1970                                 1171[164-2216] (n=99)"
      ]
     },
     "execution_count": 11,
     "metadata": {},
     "output_type": "execute_result"
    }
   ],
   "source": [
    "t1 = ogh.mappingfileSummary(\n",
    "    listofmappingfiles=[mappingfile1],\n",
    "    listofwatershednames=[\"Sauk-Suiattle river\"],\n",
    "    meta_file=meta_file,\n",
    ")\n",
    "\n",
    "t1"
   ]
  },
  {
   "cell_type": "code",
   "execution_count": 12,
   "metadata": {},
   "outputs": [],
   "source": [
    "# Save the metadata\n",
    "ogh.saveDictOfDf(dictionaryObject=meta_file, outfilepath=\"test.json\")"
   ]
  },
  {
   "cell_type": "markdown",
   "metadata": {},
   "source": [
    "### Create a dictionary of climate variables for the long-term mean (ltm).\n",
    "#### INPUT: gridded meteorology ASCII files located from the Sauk-Suiattle Mapping file. The inputs to gridclim_dict() include the folder location and name of the hydrometeorology data, the file start and end, the analysis start and end, and the elevation band to be included in the analsyis (max and min elevation). <br/>OUTPUT: dictionary of dataframes where rows are temporal summaries and columns are spatial summaries"
   ]
  },
  {
   "cell_type": "code",
   "execution_count": 13,
   "metadata": {},
   "outputs": [
    {
     "data": {
      "text/plain": [
       "['Prec', 'Tmax', 'Tmin', 'Wind']"
      ]
     },
     "execution_count": 13,
     "metadata": {},
     "output_type": "execute_result"
    }
   ],
   "source": [
    "meta_file[\"sp_dailymet_livneh_1970_1970\"][\"variable_list\"]"
   ]
  },
  {
   "cell_type": "code",
   "execution_count": 14,
   "metadata": {
    "scrolled": true
   },
   "outputs": [
    {
     "name": "stdout",
     "output_type": "stream",
     "text": [
      "Number of data files within elevation range (164.0-2216.0 m): 99\n",
      "[########################################] | 100% Completed |  1.4s\n",
      "[########################################] | 100% Completed |  1.5s\n",
      "Prec dataframe reading complete:0:00:01.655280\n",
      "[########################################] | 100% Completed |  1.0s\n",
      "[########################################] | 100% Completed |  1.0s\n",
      "Tmax dataframe reading complete:0:00:02.790228\n",
      "[########################################] | 100% Completed |  1.0s\n",
      "[########################################] | 100% Completed |  1.1s\n",
      "Tmin dataframe reading complete:0:00:04.015945\n",
      "[########################################] | 100% Completed |  0.1s\n",
      "[########################################] | 100% Completed |  0.1s\n",
      "[########################################] | 100% Completed |  0.1s\n",
      "[########################################] | 100% Completed |  0.2s\n",
      "Prec_sp_dailymet_livneh_1970_1970 calculations completed in 0:00:00.326512\n",
      "[########################################] | 100% Completed |  0.1s\n",
      "[########################################] | 100% Completed |  0.2s\n",
      "[########################################] | 100% Completed |  0.1s\n",
      "[########################################] | 100% Completed |  0.2s\n",
      "Tmax_sp_dailymet_livneh_1970_1970 calculations completed in 0:00:00.422493\n",
      "[########################################] | 100% Completed |  0.1s\n",
      "[########################################] | 100% Completed |  0.2s\n",
      "[########################################] | 100% Completed |  0.1s\n",
      "[########################################] | 100% Completed |  0.2s\n",
      "Tmin_sp_dailymet_livneh_1970_1970 calculations completed in 0:00:00.424068\n",
      "CPU times: user 3.94 s, sys: 822 ms, total: 4.76 s\n",
      "Wall time: 5.2 s\n"
     ]
    }
   ],
   "source": [
    "%%time\n",
    "\n",
    "ltm = ogh.gridclim_dict(\n",
    "    mappingfile=mappingfile1,\n",
    "    metadata=meta_file,\n",
    "    dataset=\"sp_dailymet_livneh_1970_1970\",\n",
    "    variable_list=[\"Prec\", \"Tmax\", \"Tmin\"],\n",
    ")\n",
    "\n",
    "sorted(ltm.keys())"
   ]
  },
  {
   "cell_type": "markdown",
   "metadata": {},
   "source": [
    "### Compute the total monthly and yearly precipitation, as well as the mean values across time and across stations\n",
    "#### INPUT: daily precipitation for each station from the long-term mean dictionary (ltm) <br/>OUTPUT: Append the computed dataframes and values into the ltm dictionary"
   ]
  },
  {
   "cell_type": "code",
   "execution_count": 15,
   "metadata": {},
   "outputs": [
    {
     "name": "stdout",
     "output_type": "stream",
     "text": [
      "[########################################] | 100% Completed |  0.1s\n",
      "[########################################] | 100% Completed |  0.2s\n",
      "[########################################] | 100% Completed |  0.1s\n",
      "[########################################] | 100% Completed |  0.2s\n",
      "Prec_sp_dailymet_livneh_1970_1970 calculations completed in 0:00:00.428293\n"
     ]
    }
   ],
   "source": [
    "# extract metadata\n",
    "dr = meta_file[\"sp_dailymet_livneh_1970_1970\"]\n",
    "\n",
    "# compute sums and mean monthly an yearly sums\n",
    "ltm = ogh.aggregate_space_time_sum(\n",
    "    df_dict=ltm,\n",
    "    suffix=\"Prec_sp_dailymet_livneh_1970_1970\",\n",
    "    start_date=dr[\"start_date\"],\n",
    "    end_date=dr[\"end_date\"],\n",
    ")"
   ]
  },
  {
   "cell_type": "code",
   "execution_count": 16,
   "metadata": {},
   "outputs": [
    {
     "data": {
      "text/plain": [
       "['Prec_sp_dailymet_livneh_1970_1970',\n",
       " 'Tmax_sp_dailymet_livneh_1970_1970',\n",
       " 'Tmin_sp_dailymet_livneh_1970_1970',\n",
       " 'anomyear_Prec_sp_dailymet_livneh_1970_1970',\n",
       " 'anomyear_Tmax_sp_dailymet_livneh_1970_1970',\n",
       " 'anomyear_Tmin_sp_dailymet_livneh_1970_1970',\n",
       " 'meanalldailysum_Prec_sp_dailymet_livneh_1970_1970',\n",
       " 'meanallmonthsum_Prec_sp_dailymet_livneh_1970_1970',\n",
       " 'meanallyear_Prec_sp_dailymet_livneh_1970_1970',\n",
       " 'meanallyear_Tmax_sp_dailymet_livneh_1970_1970',\n",
       " 'meanallyear_Tmin_sp_dailymet_livneh_1970_1970',\n",
       " 'meanallyearsum_Prec_sp_dailymet_livneh_1970_1970',\n",
       " 'meanbydaily_Prec_sp_dailymet_livneh_1970_1970',\n",
       " 'meanbydaily_Tmax_sp_dailymet_livneh_1970_1970',\n",
       " 'meanbydaily_Tmin_sp_dailymet_livneh_1970_1970',\n",
       " 'meanbymonth_Prec_sp_dailymet_livneh_1970_1970',\n",
       " 'meanbymonth_Tmax_sp_dailymet_livneh_1970_1970',\n",
       " 'meanbymonth_Tmin_sp_dailymet_livneh_1970_1970',\n",
       " 'meanbymonthsum_Prec_sp_dailymet_livneh_1970_1970',\n",
       " 'meanbyyear_Prec_sp_dailymet_livneh_1970_1970',\n",
       " 'meanbyyear_Tmax_sp_dailymet_livneh_1970_1970',\n",
       " 'meanbyyear_Tmin_sp_dailymet_livneh_1970_1970',\n",
       " 'meanbyyearsum_Prec_sp_dailymet_livneh_1970_1970',\n",
       " 'meandaily_Prec_sp_dailymet_livneh_1970_1970',\n",
       " 'meandaily_Tmax_sp_dailymet_livneh_1970_1970',\n",
       " 'meandaily_Tmin_sp_dailymet_livneh_1970_1970',\n",
       " 'meanmonth_Prec_sp_dailymet_livneh_1970_1970',\n",
       " 'meanmonth_Tmax_sp_dailymet_livneh_1970_1970',\n",
       " 'meanmonth_Tmin_sp_dailymet_livneh_1970_1970',\n",
       " 'meanmonthsum_Prec_sp_dailymet_livneh_1970_1970',\n",
       " 'meanyear_Prec_sp_dailymet_livneh_1970_1970',\n",
       " 'meanyear_Tmax_sp_dailymet_livneh_1970_1970',\n",
       " 'meanyear_Tmin_sp_dailymet_livneh_1970_1970',\n",
       " 'meanyearsum_Prec_sp_dailymet_livneh_1970_1970',\n",
       " 'monthsum_Prec_sp_dailymet_livneh_1970_1970',\n",
       " 'yearsum_Prec_sp_dailymet_livneh_1970_1970']"
      ]
     },
     "execution_count": 16,
     "metadata": {},
     "output_type": "execute_result"
    }
   ],
   "source": [
    "# print the name of the analytical dataframes and values within ltm\n",
    "sorted(ltm.keys())"
   ]
  },
  {
   "cell_type": "code",
   "execution_count": 17,
   "metadata": {},
   "outputs": [],
   "source": [
    "# initialize list of outputs\n",
    "files = []\n",
    "\n",
    "# create the destination path for the dictionary of dataframes\n",
    "ltm_sauk = os.path.join(homedir, \"ltm_1970_1970_sauk.json\")\n",
    "ogh.saveDictOfDf(dictionaryObject=ltm, outfilepath=ltm_sauk)\n",
    "files.append(ltm_sauk)\n",
    "\n",
    "# append the mapping file for Sauk-Suiattle gridded cell centroids\n",
    "files.append(mappingfile1)"
   ]
  },
  {
   "cell_type": "markdown",
   "metadata": {},
   "source": [
    "### Visualize the \"average monthly total precipitations\"\n",
    "\n",
    "#### INPUT: dataframe with each month as a row and each station as a column. <br/>OUTPUT: A png file that represents the distribution across stations (in Wateryear order)"
   ]
  },
  {
   "cell_type": "code",
   "execution_count": 18,
   "metadata": {},
   "outputs": [
    {
     "data": {
      "text/plain": [
       "[(69, 48.09375, -121.09375),\n",
       " (3, 48.46875, -121.59375),\n",
       " (24, 48.34375, -121.53125)]"
      ]
     },
     "execution_count": 18,
     "metadata": {},
     "output_type": "execute_result"
    }
   ],
   "source": [
    "# # two lowest elevation locations\n",
    "lowE_ref = ogh.findCentroidCode(mappingfile=mappingfile1, colvar=\"ELEV\", colvalue=164)\n",
    "\n",
    "# one highest elevation location\n",
    "highE_ref = ogh.findCentroidCode(mappingfile=mappingfile1, colvar=\"ELEV\", colvalue=2216)\n",
    "\n",
    "# combine references together\n",
    "reference_lines = highE_ref + lowE_ref\n",
    "reference_lines"
   ]
  },
  {
   "cell_type": "code",
   "execution_count": 19,
   "metadata": {},
   "outputs": [
    {
     "name": "stderr",
     "output_type": "stream",
     "text": [
      "No handles with labels found to put in legend.\n"
     ]
    },
    {
     "data": {
      "image/png": "[encoded data removed]",
      "text/plain": [
       "<Figure size 432x432 with 1 Axes>"
      ]
     },
     "metadata": {},
     "output_type": "display_data"
    },
    {
     "data": {
      "text/plain": [
       "<matplotlib.axes._subplots.AxesSubplot at 0x7f78c7d1eb38>"
      ]
     },
     "execution_count": 19,
     "metadata": {},
     "output_type": "execute_result"
    }
   ],
   "source": [
    "ogh.renderValueInBoxplot(\n",
    "    ltm[\"meanbymonthsum_Prec_sp_dailymet_livneh_1970_1970\"],\n",
    "    outfilepath=\"totalMonthlyRainfall.png\",\n",
    "    plottitle=\"Total monthly rainfall\",\n",
    "    time_steps=\"month\",\n",
    "    wateryear=True,\n",
    "    reference_lines=reference_lines,\n",
    "    ref_legend=True,\n",
    "    value_name=\"Total daily precipitation (mm)\",\n",
    "    cmap=\"seismic_r\",\n",
    "    figsize=(6, 6),\n",
    ")"
   ]
  },
  {
   "cell_type": "code",
   "execution_count": 20,
   "metadata": {},
   "outputs": [
    {
     "data": {
      "image/png": "[encoded data removed]",
      "text/plain": [
       "<Figure size 750x750 with 2 Axes>"
      ]
     },
     "metadata": {},
     "output_type": "display_data"
    }
   ],
   "source": [
    "ogh.renderValuesInPoints(\n",
    "    ltm[\"meanbymonthsum_Prec_sp_dailymet_livneh_1970_1970\"],\n",
    "    vardf_dateindex=12,\n",
    "    shapefile=sauk,\n",
    "    cmap=\"seismic_r\",\n",
    "    outfilepath=\"test.png\",\n",
    "    plottitle=\"December total rainfall\",\n",
    "    colorbar_label=\"Total monthly rainfall (mm)\",\n",
    "    figsize=(1.5, 1.5),\n",
    ")"
   ]
  },
  {
   "cell_type": "code",
   "execution_count": 21,
   "metadata": {
    "scrolled": true
   },
   "outputs": [
    {
     "name": "stdout",
     "output_type": "stream",
     "text": [
      "Number of gridded data files:99\n",
      "Minimum elevation: 164.0m\n",
      "Mean elevation: 1151.040404040404m\n",
      "Maximum elevation: 2216.0m\n",
      "115.26040113876661 -87.99363603095117 65333.46979869377 76402.0986115007\n"
     ]
    },
    {
     "data": {
      "text/plain": [
       "<Figure size 5000x5000 with 0 Axes>"
      ]
     },
     "metadata": {},
     "output_type": "display_data"
    }
   ],
   "source": [
    "minx2, miny2, maxx2, maxy2 = oxl.calculateUTMbounds(\n",
    "    mappingfile=mappingfile1,\n",
    "    mappingfile_crs={\"init\": \"epsg:4326\"},\n",
    "    spatial_resolution=0.06250,\n",
    ")\n",
    "\n",
    "print(minx2, miny2, maxx2, maxy2)"
   ]
  },
  {
   "cell_type": "markdown",
   "metadata": {},
   "source": [
    "# generate a raster"
   ]
  },
  {
   "cell_type": "code",
   "execution_count": 22,
   "metadata": {},
   "outputs": [
    {
     "name": "stdout",
     "output_type": "stream",
     "text": [
      "Help on function rasterDimensions in module ogh_xarray_landlab:\n",
      "\n",
      "rasterDimensions(maxx, maxy, minx=0, miny=0, dy=100, dx=100)\n",
      "\n"
     ]
    }
   ],
   "source": [
    "help(oxl.rasterDimensions)"
   ]
  },
  {
   "cell_type": "code",
   "execution_count": 23,
   "metadata": {},
   "outputs": [
    {
     "data": {
      "text/plain": [
       "(78, 68)"
      ]
     },
     "execution_count": 23,
     "metadata": {},
     "output_type": "execute_result"
    }
   ],
   "source": [
    "# generate a raster\n",
    "raster, row_list, col_list = oxl.rasterDimensions(\n",
    "    minx=minx2, miny=miny2, maxx=maxx2, maxy=maxy2, dx=1000, dy=1000\n",
    ")\n",
    "raster.shape"
   ]
  },
  {
   "cell_type": "markdown",
   "metadata": {},
   "source": [
    "# Higher resolution children of gridded cells \n",
    "### get data from Lower resolution parent grid cells to the children"
   ]
  },
  {
   "cell_type": "code",
   "execution_count": 24,
   "metadata": {},
   "outputs": [
    {
     "name": "stdout",
     "output_type": "stream",
     "text": [
      "Help on function mappingfileToRaster in module ogh_xarray_landlab:\n",
      "\n",
      "mappingfileToRaster(mappingfile, maxx, maxy, minx=0, miny=0, dx=100, dy=100, spatial_resolution=0.0625, mappingfile_crs={'init': 'epsg:4326'}, raster_crs={'init': 'epsg:3857'})\n",
      "\n"
     ]
    }
   ],
   "source": [
    "help(oxl.mappingfileToRaster)"
   ]
  },
  {
   "cell_type": "code",
   "execution_count": 25,
   "metadata": {},
   "outputs": [
    {
     "name": "stdout",
     "output_type": "stream",
     "text": [
      "Number of gridded data files:99\n",
      "Minimum elevation: 164.0m\n",
      "Mean elevation: 1151.040404040404m\n",
      "Maximum elevation: 2216.0m\n",
      "Warning: CRS does not match!\n",
      "CPU times: user 18.7 s, sys: 91.7 ms, total: 18.8 s\n",
      "Wall time: 18.7 s\n"
     ]
    },
    {
     "data": {
      "text/plain": [
       "<Figure size 5000x5000 with 0 Axes>"
      ]
     },
     "metadata": {},
     "output_type": "display_data"
    }
   ],
   "source": [
    "%%time\n",
    "\n",
    "# landlab raster node crossmap to gridded cell id\n",
    "nodeXmap, raster, m = oxl.mappingfileToRaster(\n",
    "    mappingfile=mappingfile1,\n",
    "    spatial_resolution=0.06250,\n",
    "    minx=minx2,\n",
    "    miny=miny2,\n",
    "    maxx=maxx2,\n",
    "    maxy=maxy2,\n",
    "    dx=1000,\n",
    "    dy=1000,\n",
    ")"
   ]
  },
  {
   "cell_type": "code",
   "execution_count": 26,
   "metadata": {},
   "outputs": [
    {
     "data": {
      "text/plain": [
       "(78, 68)"
      ]
     },
     "execution_count": 26,
     "metadata": {},
     "output_type": "execute_result"
    }
   ],
   "source": [
    "# print the raster dimensions\n",
    "raster.shape"
   ]
  },
  {
   "cell_type": "code",
   "execution_count": 27,
   "metadata": {},
   "outputs": [
    {
     "name": "stdout",
     "output_type": "stream",
     "text": [
      "CPU times: user 2.5 s, sys: 228 ms, total: 2.73 s\n",
      "Wall time: 2.44 s\n"
     ]
    },
    {
     "data": {
      "text/plain": [
       "<matplotlib.axes._subplots.AxesSubplot at 0x7f78a5cd4358>"
      ]
     },
     "execution_count": 27,
     "metadata": {},
     "output_type": "execute_result"
    },
    {
     "data": {
      "image/png": "[encoded data removed]",
      "text/plain": [
       "<Figure size 720x720 with 2 Axes>"
      ]
     },
     "metadata": {},
     "output_type": "display_data"
    }
   ],
   "source": [
    "%%time\n",
    "nodeXmap.plot(column=\"ELEV\", figsize=(10, 10), legend=True)"
   ]
  },
  {
   "cell_type": "code",
   "execution_count": 28,
   "metadata": {},
   "outputs": [
    {
     "data": {
      "image/png": "[encoded data removed]",
      "text/plain": [
       "<Figure size 720x720 with 2 Axes>"
      ]
     },
     "metadata": {},
     "output_type": "display_data"
    }
   ],
   "source": [
    "# generate vector array of December monthly precipitation\n",
    "prec_vector = ogh.rasterVector(\n",
    "    vardf=ltm[\"meanbymonthsum_Prec_sp_dailymet_livneh_1970_1970\"],\n",
    "    vardf_dateindex=12,\n",
    "    crossmap=nodeXmap,\n",
    "    nodata=-9999,\n",
    ")\n",
    "\n",
    "# close-off areas without data\n",
    "raster.status_at_node[prec_vector == -9999] = CLOSED_BOUNDARY\n",
    "\n",
    "fig = plt.figure(figsize=(10, 10))\n",
    "imshow_grid(\n",
    "    raster,\n",
    "    prec_vector,\n",
    "    var_name=\"Daily precipitation\",\n",
    "    var_units=meta_file[\"sp_dailymet_livneh_1970_1970\"][\"variable_info\"][\"Prec\"].attrs[\n",
    "        \"units\"\n",
    "    ],\n",
    "    color_for_closed=\"black\",\n",
    "    cmap=\"seismic_r\",\n",
    ")"
   ]
  },
  {
   "cell_type": "code",
   "execution_count": 29,
   "metadata": {},
   "outputs": [
    {
     "data": {
      "image/png": "[encoded data removed]",
      "text/plain": [
       "<Figure size 720x720 with 2 Axes>"
      ]
     },
     "metadata": {},
     "output_type": "display_data"
    }
   ],
   "source": [
    "tmax_vector = ogh.rasterVector(\n",
    "    vardf=ltm[\"meanbymonth_Tmax_sp_dailymet_livneh_1970_1970\"],\n",
    "    vardf_dateindex=12,\n",
    "    crossmap=nodeXmap,\n",
    "    nodata=-9999,\n",
    ")\n",
    "\n",
    "fig = plt.figure(figsize=(10, 10))\n",
    "imshow_grid(\n",
    "    raster,\n",
    "    tmax_vector,\n",
    "    var_name=\"Daily maximum temperature\",\n",
    "    var_units=meta_file[\"sp_dailymet_livneh_1970_1970\"][\"variable_info\"][\"Tmax\"].attrs[\n",
    "        \"units\"\n",
    "    ],\n",
    "    color_for_closed=\"black\",\n",
    "    symmetric_cbar=False,\n",
    "    cmap=\"magma\",\n",
    ")"
   ]
  },
  {
   "cell_type": "code",
   "execution_count": 30,
   "metadata": {},
   "outputs": [
    {
     "data": {
      "image/png": "[encoded data removed]",
      "text/plain": [
       "<Figure size 720x720 with 2 Axes>"
      ]
     },
     "metadata": {},
     "output_type": "display_data"
    }
   ],
   "source": [
    "tmin_vector = ogh.rasterVector(\n",
    "    vardf=ltm[\"meanbymonth_Tmin_sp_dailymet_livneh_1970_1970\"],\n",
    "    vardf_dateindex=12,\n",
    "    crossmap=nodeXmap,\n",
    "    nodata=-9999,\n",
    ")\n",
    "\n",
    "fig = plt.figure(figsize=(10, 10))\n",
    "imshow_grid(\n",
    "    raster,\n",
    "    tmin_vector,\n",
    "    var_name=\"Daily minimum temperature\",\n",
    "    var_units=meta_file[\"sp_dailymet_livneh_1970_1970\"][\"variable_info\"][\"Tmin\"].attrs[\n",
    "        \"units\"\n",
    "    ],\n",
    "    color_for_closed=\"black\",\n",
    "    symmetric_cbar=False,\n",
    "    cmap=\"magma\",\n",
    ")"
   ]
  },
  {
   "cell_type": "code",
   "execution_count": 33,
   "metadata": {},
   "outputs": [
    {
     "data": {
      "text/html": [
       "<div>\n",
       "<style scoped>\n",
       "    .dataframe tbody tr th:only-of-type {\n",
       "        vertical-align: middle;\n",
       "    }\n",
       "\n",
       "    .dataframe tbody tr th {\n",
       "        vertical-align: top;\n",
       "    }\n",
       "\n",
       "    .dataframe thead th {\n",
       "        text-align: right;\n",
       "    }\n",
       "</style>\n",
       "<table border=\"1\" class=\"dataframe\">\n",
       "  <thead>\n",
       "    <tr style=\"text-align: right;\">\n",
       "      <th></th>\n",
       "      <th>nodeid</th>\n",
       "      <th>value</th>\n",
       "      <th>raster_geom</th>\n",
       "      <th>index_right</th>\n",
       "      <th>FID</th>\n",
       "      <th>LAT</th>\n",
       "      <th>LONG_</th>\n",
       "      <th>ELEV</th>\n",
       "      <th>sp_dailymet_livneh_1970_1970</th>\n",
       "    </tr>\n",
       "  </thead>\n",
       "  <tbody>\n",
       "    <tr>\n",
       "      <th>0</th>\n",
       "      <td>24</td>\n",
       "      <td>426.699999</td>\n",
       "      <td>POLYGON ((24115 -87, 24115 913, 23115 913, 231...</td>\n",
       "      <td>98.0</td>\n",
       "      <td>98.0</td>\n",
       "      <td>47.90625</td>\n",
       "      <td>-121.40625</td>\n",
       "      <td>866.0</td>\n",
       "      <td>/home/jovyan/work/notebooks/data/70b977e22af54...</td>\n",
       "    </tr>\n",
       "    <tr>\n",
       "      <th>1</th>\n",
       "      <td>25</td>\n",
       "      <td>426.699999</td>\n",
       "      <td>POLYGON ((25115 -87, 25115 913, 24115 913, 241...</td>\n",
       "      <td>98.0</td>\n",
       "      <td>98.0</td>\n",
       "      <td>47.90625</td>\n",
       "      <td>-121.40625</td>\n",
       "      <td>866.0</td>\n",
       "      <td>/home/jovyan/work/notebooks/data/70b977e22af54...</td>\n",
       "    </tr>\n",
       "    <tr>\n",
       "      <th>2</th>\n",
       "      <td>26</td>\n",
       "      <td>426.699999</td>\n",
       "      <td>POLYGON ((26115 -87, 26115 913, 25115 913, 251...</td>\n",
       "      <td>98.0</td>\n",
       "      <td>98.0</td>\n",
       "      <td>47.90625</td>\n",
       "      <td>-121.40625</td>\n",
       "      <td>866.0</td>\n",
       "      <td>/home/jovyan/work/notebooks/data/70b977e22af54...</td>\n",
       "    </tr>\n",
       "    <tr>\n",
       "      <th>3</th>\n",
       "      <td>27</td>\n",
       "      <td>426.699999</td>\n",
       "      <td>POLYGON ((27115 -87, 27115 913, 26115 913, 261...</td>\n",
       "      <td>98.0</td>\n",
       "      <td>98.0</td>\n",
       "      <td>47.90625</td>\n",
       "      <td>-121.40625</td>\n",
       "      <td>866.0</td>\n",
       "      <td>/home/jovyan/work/notebooks/data/70b977e22af54...</td>\n",
       "    </tr>\n",
       "    <tr>\n",
       "      <th>4</th>\n",
       "      <td>28</td>\n",
       "      <td>426.699999</td>\n",
       "      <td>POLYGON ((28115 -87, 28115 913, 27115 913, 271...</td>\n",
       "      <td>98.0</td>\n",
       "      <td>98.0</td>\n",
       "      <td>47.90625</td>\n",
       "      <td>-121.40625</td>\n",
       "      <td>866.0</td>\n",
       "      <td>/home/jovyan/work/notebooks/data/70b977e22af54...</td>\n",
       "    </tr>\n",
       "    <tr>\n",
       "      <th>5</th>\n",
       "      <td>29</td>\n",
       "      <td>377.899997</td>\n",
       "      <td>POLYGON ((29115 -87, 29115 913, 28115 913, 281...</td>\n",
       "      <td>97.0</td>\n",
       "      <td>97.0</td>\n",
       "      <td>47.90625</td>\n",
       "      <td>-121.34375</td>\n",
       "      <td>934.0</td>\n",
       "      <td>/home/jovyan/work/notebooks/data/70b977e22af54...</td>\n",
       "    </tr>\n",
       "    <tr>\n",
       "      <th>6</th>\n",
       "      <td>30</td>\n",
       "      <td>377.899997</td>\n",
       "      <td>POLYGON ((30115 -87, 30115 913, 29115 913, 291...</td>\n",
       "      <td>97.0</td>\n",
       "      <td>97.0</td>\n",
       "      <td>47.90625</td>\n",
       "      <td>-121.34375</td>\n",
       "      <td>934.0</td>\n",
       "      <td>/home/jovyan/work/notebooks/data/70b977e22af54...</td>\n",
       "    </tr>\n",
       "    <tr>\n",
       "      <th>7</th>\n",
       "      <td>31</td>\n",
       "      <td>377.899997</td>\n",
       "      <td>POLYGON ((31115 -87, 31115 913, 30115 913, 301...</td>\n",
       "      <td>97.0</td>\n",
       "      <td>97.0</td>\n",
       "      <td>47.90625</td>\n",
       "      <td>-121.34375</td>\n",
       "      <td>934.0</td>\n",
       "      <td>/home/jovyan/work/notebooks/data/70b977e22af54...</td>\n",
       "    </tr>\n",
       "    <tr>\n",
       "      <th>8</th>\n",
       "      <td>32</td>\n",
       "      <td>377.899997</td>\n",
       "      <td>POLYGON ((32115 -87, 32115 913, 31115 913, 311...</td>\n",
       "      <td>97.0</td>\n",
       "      <td>97.0</td>\n",
       "      <td>47.90625</td>\n",
       "      <td>-121.34375</td>\n",
       "      <td>934.0</td>\n",
       "      <td>/home/jovyan/work/notebooks/data/70b977e22af54...</td>\n",
       "    </tr>\n",
       "    <tr>\n",
       "      <th>9</th>\n",
       "      <td>33</td>\n",
       "      <td>377.899997</td>\n",
       "      <td>POLYGON ((33115 -87, 33115 913, 32115 913, 321...</td>\n",
       "      <td>97.0</td>\n",
       "      <td>97.0</td>\n",
       "      <td>47.90625</td>\n",
       "      <td>-121.34375</td>\n",
       "      <td>934.0</td>\n",
       "      <td>/home/jovyan/work/notebooks/data/70b977e22af54...</td>\n",
       "    </tr>\n",
       "    <tr>\n",
       "      <th>10</th>\n",
       "      <td>34</td>\n",
       "      <td>368.675006</td>\n",
       "      <td>POLYGON ((34115 -87, 34115 913, 33115 913, 331...</td>\n",
       "      <td>96.0</td>\n",
       "      <td>96.0</td>\n",
       "      <td>47.90625</td>\n",
       "      <td>-121.28125</td>\n",
       "      <td>1061.0</td>\n",
       "      <td>/home/jovyan/work/notebooks/data/70b977e22af54...</td>\n",
       "    </tr>\n",
       "    <tr>\n",
       "      <th>11</th>\n",
       "      <td>35</td>\n",
       "      <td>368.675006</td>\n",
       "      <td>POLYGON ((35115 -87, 35115 913, 34115 913, 341...</td>\n",
       "      <td>96.0</td>\n",
       "      <td>96.0</td>\n",
       "      <td>47.90625</td>\n",
       "      <td>-121.28125</td>\n",
       "      <td>1061.0</td>\n",
       "      <td>/home/jovyan/work/notebooks/data/70b977e22af54...</td>\n",
       "    </tr>\n",
       "    <tr>\n",
       "      <th>12</th>\n",
       "      <td>36</td>\n",
       "      <td>368.675006</td>\n",
       "      <td>POLYGON ((36115 -87, 36115 913, 35115 913, 351...</td>\n",
       "      <td>96.0</td>\n",
       "      <td>96.0</td>\n",
       "      <td>47.90625</td>\n",
       "      <td>-121.28125</td>\n",
       "      <td>1061.0</td>\n",
       "      <td>/home/jovyan/work/notebooks/data/70b977e22af54...</td>\n",
       "    </tr>\n",
       "    <tr>\n",
       "      <th>13</th>\n",
       "      <td>37</td>\n",
       "      <td>368.675006</td>\n",
       "      <td>POLYGON ((37115 -87, 37115 913, 36115 913, 361...</td>\n",
       "      <td>96.0</td>\n",
       "      <td>96.0</td>\n",
       "      <td>47.90625</td>\n",
       "      <td>-121.28125</td>\n",
       "      <td>1061.0</td>\n",
       "      <td>/home/jovyan/work/notebooks/data/70b977e22af54...</td>\n",
       "    </tr>\n",
       "    <tr>\n",
       "      <th>14</th>\n",
       "      <td>92</td>\n",
       "      <td>426.699999</td>\n",
       "      <td>POLYGON ((24115 913, 24115 1913, 23115 1913, 2...</td>\n",
       "      <td>98.0</td>\n",
       "      <td>98.0</td>\n",
       "      <td>47.90625</td>\n",
       "      <td>-121.40625</td>\n",
       "      <td>866.0</td>\n",
       "      <td>/home/jovyan/work/notebooks/data/70b977e22af54...</td>\n",
       "    </tr>\n",
       "    <tr>\n",
       "      <th>15</th>\n",
       "      <td>93</td>\n",
       "      <td>426.699999</td>\n",
       "      <td>POLYGON ((25115 913, 25115 1913, 24115 1913, 2...</td>\n",
       "      <td>98.0</td>\n",
       "      <td>98.0</td>\n",
       "      <td>47.90625</td>\n",
       "      <td>-121.40625</td>\n",
       "      <td>866.0</td>\n",
       "      <td>/home/jovyan/work/notebooks/data/70b977e22af54...</td>\n",
       "    </tr>\n",
       "    <tr>\n",
       "      <th>16</th>\n",
       "      <td>94</td>\n",
       "      <td>426.699999</td>\n",
       "      <td>POLYGON ((26115 913, 26115 1913, 25115 1913, 2...</td>\n",
       "      <td>98.0</td>\n",
       "      <td>98.0</td>\n",
       "      <td>47.90625</td>\n",
       "      <td>-121.40625</td>\n",
       "      <td>866.0</td>\n",
       "      <td>/home/jovyan/work/notebooks/data/70b977e22af54...</td>\n",
       "    </tr>\n",
       "    <tr>\n",
       "      <th>17</th>\n",
       "      <td>95</td>\n",
       "      <td>426.699999</td>\n",
       "      <td>POLYGON ((27115 913, 27115 1913, 26115 1913, 2...</td>\n",
       "      <td>98.0</td>\n",
       "      <td>98.0</td>\n",
       "      <td>47.90625</td>\n",
       "      <td>-121.40625</td>\n",
       "      <td>866.0</td>\n",
       "      <td>/home/jovyan/work/notebooks/data/70b977e22af54...</td>\n",
       "    </tr>\n",
       "    <tr>\n",
       "      <th>18</th>\n",
       "      <td>96</td>\n",
       "      <td>426.699999</td>\n",
       "      <td>POLYGON ((28115 913, 28115 1913, 27115 1913, 2...</td>\n",
       "      <td>98.0</td>\n",
       "      <td>98.0</td>\n",
       "      <td>47.90625</td>\n",
       "      <td>-121.40625</td>\n",
       "      <td>866.0</td>\n",
       "      <td>/home/jovyan/work/notebooks/data/70b977e22af54...</td>\n",
       "    </tr>\n",
       "    <tr>\n",
       "      <th>19</th>\n",
       "      <td>97</td>\n",
       "      <td>377.899997</td>\n",
       "      <td>POLYGON ((29115 913, 29115 1913, 28115 1913, 2...</td>\n",
       "      <td>97.0</td>\n",
       "      <td>97.0</td>\n",
       "      <td>47.90625</td>\n",
       "      <td>-121.34375</td>\n",
       "      <td>934.0</td>\n",
       "      <td>/home/jovyan/work/notebooks/data/70b977e22af54...</td>\n",
       "    </tr>\n",
       "    <tr>\n",
       "      <th>20</th>\n",
       "      <td>98</td>\n",
       "      <td>377.899997</td>\n",
       "      <td>POLYGON ((30115 913, 30115 1913, 29115 1913, 2...</td>\n",
       "      <td>97.0</td>\n",
       "      <td>97.0</td>\n",
       "      <td>47.90625</td>\n",
       "      <td>-121.34375</td>\n",
       "      <td>934.0</td>\n",
       "      <td>/home/jovyan/work/notebooks/data/70b977e22af54...</td>\n",
       "    </tr>\n",
       "    <tr>\n",
       "      <th>21</th>\n",
       "      <td>99</td>\n",
       "      <td>377.899997</td>\n",
       "      <td>POLYGON ((31115 913, 31115 1913, 30115 1913, 3...</td>\n",
       "      <td>97.0</td>\n",
       "      <td>97.0</td>\n",
       "      <td>47.90625</td>\n",
       "      <td>-121.34375</td>\n",
       "      <td>934.0</td>\n",
       "      <td>/home/jovyan/work/notebooks/data/70b977e22af54...</td>\n",
       "    </tr>\n",
       "    <tr>\n",
       "      <th>22</th>\n",
       "      <td>100</td>\n",
       "      <td>377.899997</td>\n",
       "      <td>POLYGON ((32115 913, 32115 1913, 31115 1913, 3...</td>\n",
       "      <td>97.0</td>\n",
       "      <td>97.0</td>\n",
       "      <td>47.90625</td>\n",
       "      <td>-121.34375</td>\n",
       "      <td>934.0</td>\n",
       "      <td>/home/jovyan/work/notebooks/data/70b977e22af54...</td>\n",
       "    </tr>\n",
       "    <tr>\n",
       "      <th>23</th>\n",
       "      <td>101</td>\n",
       "      <td>377.899997</td>\n",
       "      <td>POLYGON ((33115 913, 33115 1913, 32115 1913, 3...</td>\n",
       "      <td>97.0</td>\n",
       "      <td>97.0</td>\n",
       "      <td>47.90625</td>\n",
       "      <td>-121.34375</td>\n",
       "      <td>934.0</td>\n",
       "      <td>/home/jovyan/work/notebooks/data/70b977e22af54...</td>\n",
       "    </tr>\n",
       "    <tr>\n",
       "      <th>24</th>\n",
       "      <td>102</td>\n",
       "      <td>368.675006</td>\n",
       "      <td>POLYGON ((34115 913, 34115 1913, 33115 1913, 3...</td>\n",
       "      <td>96.0</td>\n",
       "      <td>96.0</td>\n",
       "      <td>47.90625</td>\n",
       "      <td>-121.28125</td>\n",
       "      <td>1061.0</td>\n",
       "      <td>/home/jovyan/work/notebooks/data/70b977e22af54...</td>\n",
       "    </tr>\n",
       "    <tr>\n",
       "      <th>25</th>\n",
       "      <td>103</td>\n",
       "      <td>368.675006</td>\n",
       "      <td>POLYGON ((35115 913, 35115 1913, 34115 1913, 3...</td>\n",
       "      <td>96.0</td>\n",
       "      <td>96.0</td>\n",
       "      <td>47.90625</td>\n",
       "      <td>-121.28125</td>\n",
       "      <td>1061.0</td>\n",
       "      <td>/home/jovyan/work/notebooks/data/70b977e22af54...</td>\n",
       "    </tr>\n",
       "    <tr>\n",
       "      <th>26</th>\n",
       "      <td>104</td>\n",
       "      <td>368.675006</td>\n",
       "      <td>POLYGON ((36115 913, 36115 1913, 35115 1913, 3...</td>\n",
       "      <td>96.0</td>\n",
       "      <td>96.0</td>\n",
       "      <td>47.90625</td>\n",
       "      <td>-121.28125</td>\n",
       "      <td>1061.0</td>\n",
       "      <td>/home/jovyan/work/notebooks/data/70b977e22af54...</td>\n",
       "    </tr>\n",
       "    <tr>\n",
       "      <th>27</th>\n",
       "      <td>105</td>\n",
       "      <td>368.675006</td>\n",
       "      <td>POLYGON ((37115 913, 37115 1913, 36115 1913, 3...</td>\n",
       "      <td>96.0</td>\n",
       "      <td>96.0</td>\n",
       "      <td>47.90625</td>\n",
       "      <td>-121.28125</td>\n",
       "      <td>1061.0</td>\n",
       "      <td>/home/jovyan/work/notebooks/data/70b977e22af54...</td>\n",
       "    </tr>\n",
       "    <tr>\n",
       "      <th>28</th>\n",
       "      <td>160</td>\n",
       "      <td>426.699999</td>\n",
       "      <td>POLYGON ((24115 1913, 24115 2913, 23115 2913, ...</td>\n",
       "      <td>98.0</td>\n",
       "      <td>98.0</td>\n",
       "      <td>47.90625</td>\n",
       "      <td>-121.40625</td>\n",
       "      <td>866.0</td>\n",
       "      <td>/home/jovyan/work/notebooks/data/70b977e22af54...</td>\n",
       "    </tr>\n",
       "    <tr>\n",
       "      <th>29</th>\n",
       "      <td>161</td>\n",
       "      <td>426.699999</td>\n",
       "      <td>POLYGON ((25115 1913, 25115 2913, 24115 2913, ...</td>\n",
       "      <td>98.0</td>\n",
       "      <td>98.0</td>\n",
       "      <td>47.90625</td>\n",
       "      <td>-121.40625</td>\n",
       "      <td>866.0</td>\n",
       "      <td>/home/jovyan/work/notebooks/data/70b977e22af54...</td>\n",
       "    </tr>\n",
       "    <tr>\n",
       "      <th>...</th>\n",
       "      <td>...</td>\n",
       "      <td>...</td>\n",
       "      <td>...</td>\n",
       "      <td>...</td>\n",
       "      <td>...</td>\n",
       "      <td>...</td>\n",
       "      <td>...</td>\n",
       "      <td>...</td>\n",
       "      <td>...</td>\n",
       "    </tr>\n",
       "    <tr>\n",
       "      <th>3172</th>\n",
       "      <td>4710</td>\n",
       "      <td>308.424996</td>\n",
       "      <td>POLYGON ((18115 68913, 18115 69913, 17115 6991...</td>\n",
       "      <td>2.0</td>\n",
       "      <td>2.0</td>\n",
       "      <td>48.46875</td>\n",
       "      <td>-121.53125</td>\n",
       "      <td>321.0</td>\n",
       "      <td>/home/jovyan/work/notebooks/data/70b977e22af54...</td>\n",
       "    </tr>\n",
       "    <tr>\n",
       "      <th>3173</th>\n",
       "      <td>4711</td>\n",
       "      <td>308.424996</td>\n",
       "      <td>POLYGON ((19115 68913, 19115 69913, 18115 6991...</td>\n",
       "      <td>2.0</td>\n",
       "      <td>2.0</td>\n",
       "      <td>48.46875</td>\n",
       "      <td>-121.53125</td>\n",
       "      <td>321.0</td>\n",
       "      <td>/home/jovyan/work/notebooks/data/70b977e22af54...</td>\n",
       "    </tr>\n",
       "    <tr>\n",
       "      <th>3174</th>\n",
       "      <td>4712</td>\n",
       "      <td>329.999997</td>\n",
       "      <td>POLYGON ((20115 68913, 20115 69913, 19115 6991...</td>\n",
       "      <td>1.0</td>\n",
       "      <td>1.0</td>\n",
       "      <td>48.46875</td>\n",
       "      <td>-121.46875</td>\n",
       "      <td>646.0</td>\n",
       "      <td>/home/jovyan/work/notebooks/data/70b977e22af54...</td>\n",
       "    </tr>\n",
       "    <tr>\n",
       "      <th>3175</th>\n",
       "      <td>4713</td>\n",
       "      <td>329.999997</td>\n",
       "      <td>POLYGON ((21115 68913, 21115 69913, 20115 6991...</td>\n",
       "      <td>1.0</td>\n",
       "      <td>1.0</td>\n",
       "      <td>48.46875</td>\n",
       "      <td>-121.46875</td>\n",
       "      <td>646.0</td>\n",
       "      <td>/home/jovyan/work/notebooks/data/70b977e22af54...</td>\n",
       "    </tr>\n",
       "    <tr>\n",
       "      <th>3176</th>\n",
       "      <td>4714</td>\n",
       "      <td>329.999997</td>\n",
       "      <td>POLYGON ((22115 68913, 22115 69913, 21115 6991...</td>\n",
       "      <td>1.0</td>\n",
       "      <td>1.0</td>\n",
       "      <td>48.46875</td>\n",
       "      <td>-121.46875</td>\n",
       "      <td>646.0</td>\n",
       "      <td>/home/jovyan/work/notebooks/data/70b977e22af54...</td>\n",
       "    </tr>\n",
       "    <tr>\n",
       "      <th>3177</th>\n",
       "      <td>4715</td>\n",
       "      <td>329.999997</td>\n",
       "      <td>POLYGON ((23115 68913, 23115 69913, 22115 6991...</td>\n",
       "      <td>1.0</td>\n",
       "      <td>1.0</td>\n",
       "      <td>48.46875</td>\n",
       "      <td>-121.46875</td>\n",
       "      <td>646.0</td>\n",
       "      <td>/home/jovyan/work/notebooks/data/70b977e22af54...</td>\n",
       "    </tr>\n",
       "    <tr>\n",
       "      <th>3178</th>\n",
       "      <td>4771</td>\n",
       "      <td>348.925004</td>\n",
       "      <td>POLYGON ((11115 69913, 11115 70913, 10115 7091...</td>\n",
       "      <td>0.0</td>\n",
       "      <td>0.0</td>\n",
       "      <td>48.53125</td>\n",
       "      <td>-121.59375</td>\n",
       "      <td>1113.0</td>\n",
       "      <td>/home/jovyan/work/notebooks/data/70b977e22af54...</td>\n",
       "    </tr>\n",
       "    <tr>\n",
       "      <th>3179</th>\n",
       "      <td>4772</td>\n",
       "      <td>348.925004</td>\n",
       "      <td>POLYGON ((12115 69913, 12115 70913, 11115 7091...</td>\n",
       "      <td>0.0</td>\n",
       "      <td>0.0</td>\n",
       "      <td>48.53125</td>\n",
       "      <td>-121.59375</td>\n",
       "      <td>1113.0</td>\n",
       "      <td>/home/jovyan/work/notebooks/data/70b977e22af54...</td>\n",
       "    </tr>\n",
       "    <tr>\n",
       "      <th>3180</th>\n",
       "      <td>4773</td>\n",
       "      <td>348.925004</td>\n",
       "      <td>POLYGON ((13115 69913, 13115 70913, 12115 7091...</td>\n",
       "      <td>0.0</td>\n",
       "      <td>0.0</td>\n",
       "      <td>48.53125</td>\n",
       "      <td>-121.59375</td>\n",
       "      <td>1113.0</td>\n",
       "      <td>/home/jovyan/work/notebooks/data/70b977e22af54...</td>\n",
       "    </tr>\n",
       "    <tr>\n",
       "      <th>3181</th>\n",
       "      <td>4774</td>\n",
       "      <td>348.925004</td>\n",
       "      <td>POLYGON ((14115 69913, 14115 70913, 13115 7091...</td>\n",
       "      <td>0.0</td>\n",
       "      <td>0.0</td>\n",
       "      <td>48.53125</td>\n",
       "      <td>-121.59375</td>\n",
       "      <td>1113.0</td>\n",
       "      <td>/home/jovyan/work/notebooks/data/70b977e22af54...</td>\n",
       "    </tr>\n",
       "    <tr>\n",
       "      <th>3182</th>\n",
       "      <td>4839</td>\n",
       "      <td>348.925004</td>\n",
       "      <td>POLYGON ((11115 70913, 11115 71913, 10115 7191...</td>\n",
       "      <td>0.0</td>\n",
       "      <td>0.0</td>\n",
       "      <td>48.53125</td>\n",
       "      <td>-121.59375</td>\n",
       "      <td>1113.0</td>\n",
       "      <td>/home/jovyan/work/notebooks/data/70b977e22af54...</td>\n",
       "    </tr>\n",
       "    <tr>\n",
       "      <th>3183</th>\n",
       "      <td>4840</td>\n",
       "      <td>348.925004</td>\n",
       "      <td>POLYGON ((12115 70913, 12115 71913, 11115 7191...</td>\n",
       "      <td>0.0</td>\n",
       "      <td>0.0</td>\n",
       "      <td>48.53125</td>\n",
       "      <td>-121.59375</td>\n",
       "      <td>1113.0</td>\n",
       "      <td>/home/jovyan/work/notebooks/data/70b977e22af54...</td>\n",
       "    </tr>\n",
       "    <tr>\n",
       "      <th>3184</th>\n",
       "      <td>4841</td>\n",
       "      <td>348.925004</td>\n",
       "      <td>POLYGON ((13115 70913, 13115 71913, 12115 7191...</td>\n",
       "      <td>0.0</td>\n",
       "      <td>0.0</td>\n",
       "      <td>48.53125</td>\n",
       "      <td>-121.59375</td>\n",
       "      <td>1113.0</td>\n",
       "      <td>/home/jovyan/work/notebooks/data/70b977e22af54...</td>\n",
       "    </tr>\n",
       "    <tr>\n",
       "      <th>3185</th>\n",
       "      <td>4842</td>\n",
       "      <td>348.925004</td>\n",
       "      <td>POLYGON ((14115 70913, 14115 71913, 13115 7191...</td>\n",
       "      <td>0.0</td>\n",
       "      <td>0.0</td>\n",
       "      <td>48.53125</td>\n",
       "      <td>-121.59375</td>\n",
       "      <td>1113.0</td>\n",
       "      <td>/home/jovyan/work/notebooks/data/70b977e22af54...</td>\n",
       "    </tr>\n",
       "    <tr>\n",
       "      <th>3186</th>\n",
       "      <td>4907</td>\n",
       "      <td>348.925004</td>\n",
       "      <td>POLYGON ((11115 71913, 11115 72913, 10115 7291...</td>\n",
       "      <td>0.0</td>\n",
       "      <td>0.0</td>\n",
       "      <td>48.53125</td>\n",
       "      <td>-121.59375</td>\n",
       "      <td>1113.0</td>\n",
       "      <td>/home/jovyan/work/notebooks/data/70b977e22af54...</td>\n",
       "    </tr>\n",
       "    <tr>\n",
       "      <th>3187</th>\n",
       "      <td>4908</td>\n",
       "      <td>348.925004</td>\n",
       "      <td>POLYGON ((12115 71913, 12115 72913, 11115 7291...</td>\n",
       "      <td>0.0</td>\n",
       "      <td>0.0</td>\n",
       "      <td>48.53125</td>\n",
       "      <td>-121.59375</td>\n",
       "      <td>1113.0</td>\n",
       "      <td>/home/jovyan/work/notebooks/data/70b977e22af54...</td>\n",
       "    </tr>\n",
       "    <tr>\n",
       "      <th>3188</th>\n",
       "      <td>4909</td>\n",
       "      <td>348.925004</td>\n",
       "      <td>POLYGON ((13115 71913, 13115 72913, 12115 7291...</td>\n",
       "      <td>0.0</td>\n",
       "      <td>0.0</td>\n",
       "      <td>48.53125</td>\n",
       "      <td>-121.59375</td>\n",
       "      <td>1113.0</td>\n",
       "      <td>/home/jovyan/work/notebooks/data/70b977e22af54...</td>\n",
       "    </tr>\n",
       "    <tr>\n",
       "      <th>3189</th>\n",
       "      <td>4910</td>\n",
       "      <td>348.925004</td>\n",
       "      <td>POLYGON ((14115 71913, 14115 72913, 13115 7291...</td>\n",
       "      <td>0.0</td>\n",
       "      <td>0.0</td>\n",
       "      <td>48.53125</td>\n",
       "      <td>-121.59375</td>\n",
       "      <td>1113.0</td>\n",
       "      <td>/home/jovyan/work/notebooks/data/70b977e22af54...</td>\n",
       "    </tr>\n",
       "    <tr>\n",
       "      <th>3190</th>\n",
       "      <td>4975</td>\n",
       "      <td>348.925004</td>\n",
       "      <td>POLYGON ((11115 72913, 11115 73913, 10115 7391...</td>\n",
       "      <td>0.0</td>\n",
       "      <td>0.0</td>\n",
       "      <td>48.53125</td>\n",
       "      <td>-121.59375</td>\n",
       "      <td>1113.0</td>\n",
       "      <td>/home/jovyan/work/notebooks/data/70b977e22af54...</td>\n",
       "    </tr>\n",
       "    <tr>\n",
       "      <th>3191</th>\n",
       "      <td>4976</td>\n",
       "      <td>348.925004</td>\n",
       "      <td>POLYGON ((12115 72913, 12115 73913, 11115 7391...</td>\n",
       "      <td>0.0</td>\n",
       "      <td>0.0</td>\n",
       "      <td>48.53125</td>\n",
       "      <td>-121.59375</td>\n",
       "      <td>1113.0</td>\n",
       "      <td>/home/jovyan/work/notebooks/data/70b977e22af54...</td>\n",
       "    </tr>\n",
       "    <tr>\n",
       "      <th>3192</th>\n",
       "      <td>4977</td>\n",
       "      <td>348.925004</td>\n",
       "      <td>POLYGON ((13115 72913, 13115 73913, 12115 7391...</td>\n",
       "      <td>0.0</td>\n",
       "      <td>0.0</td>\n",
       "      <td>48.53125</td>\n",
       "      <td>-121.59375</td>\n",
       "      <td>1113.0</td>\n",
       "      <td>/home/jovyan/work/notebooks/data/70b977e22af54...</td>\n",
       "    </tr>\n",
       "    <tr>\n",
       "      <th>3193</th>\n",
       "      <td>4978</td>\n",
       "      <td>348.925004</td>\n",
       "      <td>POLYGON ((14115 72913, 14115 73913, 13115 7391...</td>\n",
       "      <td>0.0</td>\n",
       "      <td>0.0</td>\n",
       "      <td>48.53125</td>\n",
       "      <td>-121.59375</td>\n",
       "      <td>1113.0</td>\n",
       "      <td>/home/jovyan/work/notebooks/data/70b977e22af54...</td>\n",
       "    </tr>\n",
       "    <tr>\n",
       "      <th>3194</th>\n",
       "      <td>5043</td>\n",
       "      <td>348.925004</td>\n",
       "      <td>POLYGON ((11115 73913, 11115 74913, 10115 7491...</td>\n",
       "      <td>0.0</td>\n",
       "      <td>0.0</td>\n",
       "      <td>48.53125</td>\n",
       "      <td>-121.59375</td>\n",
       "      <td>1113.0</td>\n",
       "      <td>/home/jovyan/work/notebooks/data/70b977e22af54...</td>\n",
       "    </tr>\n",
       "    <tr>\n",
       "      <th>3195</th>\n",
       "      <td>5044</td>\n",
       "      <td>348.925004</td>\n",
       "      <td>POLYGON ((12115 73913, 12115 74913, 11115 7491...</td>\n",
       "      <td>0.0</td>\n",
       "      <td>0.0</td>\n",
       "      <td>48.53125</td>\n",
       "      <td>-121.59375</td>\n",
       "      <td>1113.0</td>\n",
       "      <td>/home/jovyan/work/notebooks/data/70b977e22af54...</td>\n",
       "    </tr>\n",
       "    <tr>\n",
       "      <th>3196</th>\n",
       "      <td>5045</td>\n",
       "      <td>348.925004</td>\n",
       "      <td>POLYGON ((13115 73913, 13115 74913, 12115 7491...</td>\n",
       "      <td>0.0</td>\n",
       "      <td>0.0</td>\n",
       "      <td>48.53125</td>\n",
       "      <td>-121.59375</td>\n",
       "      <td>1113.0</td>\n",
       "      <td>/home/jovyan/work/notebooks/data/70b977e22af54...</td>\n",
       "    </tr>\n",
       "    <tr>\n",
       "      <th>3197</th>\n",
       "      <td>5046</td>\n",
       "      <td>348.925004</td>\n",
       "      <td>POLYGON ((14115 73913, 14115 74913, 13115 7491...</td>\n",
       "      <td>0.0</td>\n",
       "      <td>0.0</td>\n",
       "      <td>48.53125</td>\n",
       "      <td>-121.59375</td>\n",
       "      <td>1113.0</td>\n",
       "      <td>/home/jovyan/work/notebooks/data/70b977e22af54...</td>\n",
       "    </tr>\n",
       "    <tr>\n",
       "      <th>3198</th>\n",
       "      <td>5111</td>\n",
       "      <td>348.925004</td>\n",
       "      <td>POLYGON ((11115 74913, 11115 75913, 10115 7591...</td>\n",
       "      <td>0.0</td>\n",
       "      <td>0.0</td>\n",
       "      <td>48.53125</td>\n",
       "      <td>-121.59375</td>\n",
       "      <td>1113.0</td>\n",
       "      <td>/home/jovyan/work/notebooks/data/70b977e22af54...</td>\n",
       "    </tr>\n",
       "    <tr>\n",
       "      <th>3199</th>\n",
       "      <td>5112</td>\n",
       "      <td>348.925004</td>\n",
       "      <td>POLYGON ((12115 74913, 12115 75913, 11115 7591...</td>\n",
       "      <td>0.0</td>\n",
       "      <td>0.0</td>\n",
       "      <td>48.53125</td>\n",
       "      <td>-121.59375</td>\n",
       "      <td>1113.0</td>\n",
       "      <td>/home/jovyan/work/notebooks/data/70b977e22af54...</td>\n",
       "    </tr>\n",
       "    <tr>\n",
       "      <th>3200</th>\n",
       "      <td>5113</td>\n",
       "      <td>348.925004</td>\n",
       "      <td>POLYGON ((13115 74913, 13115 75913, 12115 7591...</td>\n",
       "      <td>0.0</td>\n",
       "      <td>0.0</td>\n",
       "      <td>48.53125</td>\n",
       "      <td>-121.59375</td>\n",
       "      <td>1113.0</td>\n",
       "      <td>/home/jovyan/work/notebooks/data/70b977e22af54...</td>\n",
       "    </tr>\n",
       "    <tr>\n",
       "      <th>3201</th>\n",
       "      <td>5114</td>\n",
       "      <td>348.925004</td>\n",
       "      <td>POLYGON ((14115 74913, 14115 75913, 13115 7591...</td>\n",
       "      <td>0.0</td>\n",
       "      <td>0.0</td>\n",
       "      <td>48.53125</td>\n",
       "      <td>-121.59375</td>\n",
       "      <td>1113.0</td>\n",
       "      <td>/home/jovyan/work/notebooks/data/70b977e22af54...</td>\n",
       "    </tr>\n",
       "  </tbody>\n",
       "</table>\n",
       "<p>3202 rows × 9 columns</p>\n",
       "</div>"
      ],
      "text/plain": [
       "      nodeid       value                                        raster_geom  \\\n",
       "0         24  426.699999  POLYGON ((24115 -87, 24115 913, 23115 913, 231...   \n",
       "1         25  426.699999  POLYGON ((25115 -87, 25115 913, 24115 913, 241...   \n",
       "2         26  426.699999  POLYGON ((26115 -87, 26115 913, 25115 913, 251...   \n",
       "3         27  426.699999  POLYGON ((27115 -87, 27115 913, 26115 913, 261...   \n",
       "4         28  426.699999  POLYGON ((28115 -87, 28115 913, 27115 913, 271...   \n",
       "5         29  377.899997  POLYGON ((29115 -87, 29115 913, 28115 913, 281...   \n",
       "6         30  377.899997  POLYGON ((30115 -87, 30115 913, 29115 913, 291...   \n",
       "7         31  377.899997  POLYGON ((31115 -87, 31115 913, 30115 913, 301...   \n",
       "8         32  377.899997  POLYGON ((32115 -87, 32115 913, 31115 913, 311...   \n",
       "9         33  377.899997  POLYGON ((33115 -87, 33115 913, 32115 913, 321...   \n",
       "10        34  368.675006  POLYGON ((34115 -87, 34115 913, 33115 913, 331...   \n",
       "11        35  368.675006  POLYGON ((35115 -87, 35115 913, 34115 913, 341...   \n",
       "12        36  368.675006  POLYGON ((36115 -87, 36115 913, 35115 913, 351...   \n",
       "13        37  368.675006  POLYGON ((37115 -87, 37115 913, 36115 913, 361...   \n",
       "14        92  426.699999  POLYGON ((24115 913, 24115 1913, 23115 1913, 2...   \n",
       "15        93  426.699999  POLYGON ((25115 913, 25115 1913, 24115 1913, 2...   \n",
       "16        94  426.699999  POLYGON ((26115 913, 26115 1913, 25115 1913, 2...   \n",
       "17        95  426.699999  POLYGON ((27115 913, 27115 1913, 26115 1913, 2...   \n",
       "18        96  426.699999  POLYGON ((28115 913, 28115 1913, 27115 1913, 2...   \n",
       "19        97  377.899997  POLYGON ((29115 913, 29115 1913, 28115 1913, 2...   \n",
       "20        98  377.899997  POLYGON ((30115 913, 30115 1913, 29115 1913, 2...   \n",
       "21        99  377.899997  POLYGON ((31115 913, 31115 1913, 30115 1913, 3...   \n",
       "22       100  377.899997  POLYGON ((32115 913, 32115 1913, 31115 1913, 3...   \n",
       "23       101  377.899997  POLYGON ((33115 913, 33115 1913, 32115 1913, 3...   \n",
       "24       102  368.675006  POLYGON ((34115 913, 34115 1913, 33115 1913, 3...   \n",
       "25       103  368.675006  POLYGON ((35115 913, 35115 1913, 34115 1913, 3...   \n",
       "26       104  368.675006  POLYGON ((36115 913, 36115 1913, 35115 1913, 3...   \n",
       "27       105  368.675006  POLYGON ((37115 913, 37115 1913, 36115 1913, 3...   \n",
       "28       160  426.699999  POLYGON ((24115 1913, 24115 2913, 23115 2913, ...   \n",
       "29       161  426.699999  POLYGON ((25115 1913, 25115 2913, 24115 2913, ...   \n",
       "...      ...         ...                                                ...   \n",
       "3172    4710  308.424996  POLYGON ((18115 68913, 18115 69913, 17115 6991...   \n",
       "3173    4711  308.424996  POLYGON ((19115 68913, 19115 69913, 18115 6991...   \n",
       "3174    4712  329.999997  POLYGON ((20115 68913, 20115 69913, 19115 6991...   \n",
       "3175    4713  329.999997  POLYGON ((21115 68913, 21115 69913, 20115 6991...   \n",
       "3176    4714  329.999997  POLYGON ((22115 68913, 22115 69913, 21115 6991...   \n",
       "3177    4715  329.999997  POLYGON ((23115 68913, 23115 69913, 22115 6991...   \n",
       "3178    4771  348.925004  POLYGON ((11115 69913, 11115 70913, 10115 7091...   \n",
       "3179    4772  348.925004  POLYGON ((12115 69913, 12115 70913, 11115 7091...   \n",
       "3180    4773  348.925004  POLYGON ((13115 69913, 13115 70913, 12115 7091...   \n",
       "3181    4774  348.925004  POLYGON ((14115 69913, 14115 70913, 13115 7091...   \n",
       "3182    4839  348.925004  POLYGON ((11115 70913, 11115 71913, 10115 7191...   \n",
       "3183    4840  348.925004  POLYGON ((12115 70913, 12115 71913, 11115 7191...   \n",
       "3184    4841  348.925004  POLYGON ((13115 70913, 13115 71913, 12115 7191...   \n",
       "3185    4842  348.925004  POLYGON ((14115 70913, 14115 71913, 13115 7191...   \n",
       "3186    4907  348.925004  POLYGON ((11115 71913, 11115 72913, 10115 7291...   \n",
       "3187    4908  348.925004  POLYGON ((12115 71913, 12115 72913, 11115 7291...   \n",
       "3188    4909  348.925004  POLYGON ((13115 71913, 13115 72913, 12115 7291...   \n",
       "3189    4910  348.925004  POLYGON ((14115 71913, 14115 72913, 13115 7291...   \n",
       "3190    4975  348.925004  POLYGON ((11115 72913, 11115 73913, 10115 7391...   \n",
       "3191    4976  348.925004  POLYGON ((12115 72913, 12115 73913, 11115 7391...   \n",
       "3192    4977  348.925004  POLYGON ((13115 72913, 13115 73913, 12115 7391...   \n",
       "3193    4978  348.925004  POLYGON ((14115 72913, 14115 73913, 13115 7391...   \n",
       "3194    5043  348.925004  POLYGON ((11115 73913, 11115 74913, 10115 7491...   \n",
       "3195    5044  348.925004  POLYGON ((12115 73913, 12115 74913, 11115 7491...   \n",
       "3196    5045  348.925004  POLYGON ((13115 73913, 13115 74913, 12115 7491...   \n",
       "3197    5046  348.925004  POLYGON ((14115 73913, 14115 74913, 13115 7491...   \n",
       "3198    5111  348.925004  POLYGON ((11115 74913, 11115 75913, 10115 7591...   \n",
       "3199    5112  348.925004  POLYGON ((12115 74913, 12115 75913, 11115 7591...   \n",
       "3200    5113  348.925004  POLYGON ((13115 74913, 13115 75913, 12115 7591...   \n",
       "3201    5114  348.925004  POLYGON ((14115 74913, 14115 75913, 13115 7591...   \n",
       "\n",
       "      index_right   FID       LAT      LONG_    ELEV  \\\n",
       "0            98.0  98.0  47.90625 -121.40625   866.0   \n",
       "1            98.0  98.0  47.90625 -121.40625   866.0   \n",
       "2            98.0  98.0  47.90625 -121.40625   866.0   \n",
       "3            98.0  98.0  47.90625 -121.40625   866.0   \n",
       "4            98.0  98.0  47.90625 -121.40625   866.0   \n",
       "5            97.0  97.0  47.90625 -121.34375   934.0   \n",
       "6            97.0  97.0  47.90625 -121.34375   934.0   \n",
       "7            97.0  97.0  47.90625 -121.34375   934.0   \n",
       "8            97.0  97.0  47.90625 -121.34375   934.0   \n",
       "9            97.0  97.0  47.90625 -121.34375   934.0   \n",
       "10           96.0  96.0  47.90625 -121.28125  1061.0   \n",
       "11           96.0  96.0  47.90625 -121.28125  1061.0   \n",
       "12           96.0  96.0  47.90625 -121.28125  1061.0   \n",
       "13           96.0  96.0  47.90625 -121.28125  1061.0   \n",
       "14           98.0  98.0  47.90625 -121.40625   866.0   \n",
       "15           98.0  98.0  47.90625 -121.40625   866.0   \n",
       "16           98.0  98.0  47.90625 -121.40625   866.0   \n",
       "17           98.0  98.0  47.90625 -121.40625   866.0   \n",
       "18           98.0  98.0  47.90625 -121.40625   866.0   \n",
       "19           97.0  97.0  47.90625 -121.34375   934.0   \n",
       "20           97.0  97.0  47.90625 -121.34375   934.0   \n",
       "21           97.0  97.0  47.90625 -121.34375   934.0   \n",
       "22           97.0  97.0  47.90625 -121.34375   934.0   \n",
       "23           97.0  97.0  47.90625 -121.34375   934.0   \n",
       "24           96.0  96.0  47.90625 -121.28125  1061.0   \n",
       "25           96.0  96.0  47.90625 -121.28125  1061.0   \n",
       "26           96.0  96.0  47.90625 -121.28125  1061.0   \n",
       "27           96.0  96.0  47.90625 -121.28125  1061.0   \n",
       "28           98.0  98.0  47.90625 -121.40625   866.0   \n",
       "29           98.0  98.0  47.90625 -121.40625   866.0   \n",
       "...           ...   ...       ...        ...     ...   \n",
       "3172          2.0   2.0  48.46875 -121.53125   321.0   \n",
       "3173          2.0   2.0  48.46875 -121.53125   321.0   \n",
       "3174          1.0   1.0  48.46875 -121.46875   646.0   \n",
       "3175          1.0   1.0  48.46875 -121.46875   646.0   \n",
       "3176          1.0   1.0  48.46875 -121.46875   646.0   \n",
       "3177          1.0   1.0  48.46875 -121.46875   646.0   \n",
       "3178          0.0   0.0  48.53125 -121.59375  1113.0   \n",
       "3179          0.0   0.0  48.53125 -121.59375  1113.0   \n",
       "3180          0.0   0.0  48.53125 -121.59375  1113.0   \n",
       "3181          0.0   0.0  48.53125 -121.59375  1113.0   \n",
       "3182          0.0   0.0  48.53125 -121.59375  1113.0   \n",
       "3183          0.0   0.0  48.53125 -121.59375  1113.0   \n",
       "3184          0.0   0.0  48.53125 -121.59375  1113.0   \n",
       "3185          0.0   0.0  48.53125 -121.59375  1113.0   \n",
       "3186          0.0   0.0  48.53125 -121.59375  1113.0   \n",
       "3187          0.0   0.0  48.53125 -121.59375  1113.0   \n",
       "3188          0.0   0.0  48.53125 -121.59375  1113.0   \n",
       "3189          0.0   0.0  48.53125 -121.59375  1113.0   \n",
       "3190          0.0   0.0  48.53125 -121.59375  1113.0   \n",
       "3191          0.0   0.0  48.53125 -121.59375  1113.0   \n",
       "3192          0.0   0.0  48.53125 -121.59375  1113.0   \n",
       "3193          0.0   0.0  48.53125 -121.59375  1113.0   \n",
       "3194          0.0   0.0  48.53125 -121.59375  1113.0   \n",
       "3195          0.0   0.0  48.53125 -121.59375  1113.0   \n",
       "3196          0.0   0.0  48.53125 -121.59375  1113.0   \n",
       "3197          0.0   0.0  48.53125 -121.59375  1113.0   \n",
       "3198          0.0   0.0  48.53125 -121.59375  1113.0   \n",
       "3199          0.0   0.0  48.53125 -121.59375  1113.0   \n",
       "3200          0.0   0.0  48.53125 -121.59375  1113.0   \n",
       "3201          0.0   0.0  48.53125 -121.59375  1113.0   \n",
       "\n",
       "                           sp_dailymet_livneh_1970_1970  \n",
       "0     /home/jovyan/work/notebooks/data/70b977e22af54...  \n",
       "1     /home/jovyan/work/notebooks/data/70b977e22af54...  \n",
       "2     /home/jovyan/work/notebooks/data/70b977e22af54...  \n",
       "3     /home/jovyan/work/notebooks/data/70b977e22af54...  \n",
       "4     /home/jovyan/work/notebooks/data/70b977e22af54...  \n",
       "5     /home/jovyan/work/notebooks/data/70b977e22af54...  \n",
       "6     /home/jovyan/work/notebooks/data/70b977e22af54...  \n",
       "7     /home/jovyan/work/notebooks/data/70b977e22af54...  \n",
       "8     /home/jovyan/work/notebooks/data/70b977e22af54...  \n",
       "9     /home/jovyan/work/notebooks/data/70b977e22af54...  \n",
       "10    /home/jovyan/work/notebooks/data/70b977e22af54...  \n",
       "11    /home/jovyan/work/notebooks/data/70b977e22af54...  \n",
       "12    /home/jovyan/work/notebooks/data/70b977e22af54...  \n",
       "13    /home/jovyan/work/notebooks/data/70b977e22af54...  \n",
       "14    /home/jovyan/work/notebooks/data/70b977e22af54...  \n",
       "15    /home/jovyan/work/notebooks/data/70b977e22af54...  \n",
       "16    /home/jovyan/work/notebooks/data/70b977e22af54...  \n",
       "17    /home/jovyan/work/notebooks/data/70b977e22af54...  \n",
       "18    /home/jovyan/work/notebooks/data/70b977e22af54...  \n",
       "19    /home/jovyan/work/notebooks/data/70b977e22af54...  \n",
       "20    /home/jovyan/work/notebooks/data/70b977e22af54...  \n",
       "21    /home/jovyan/work/notebooks/data/70b977e22af54...  \n",
       "22    /home/jovyan/work/notebooks/data/70b977e22af54...  \n",
       "23    /home/jovyan/work/notebooks/data/70b977e22af54...  \n",
       "24    /home/jovyan/work/notebooks/data/70b977e22af54...  \n",
       "25    /home/jovyan/work/notebooks/data/70b977e22af54...  \n",
       "26    /home/jovyan/work/notebooks/data/70b977e22af54...  \n",
       "27    /home/jovyan/work/notebooks/data/70b977e22af54...  \n",
       "28    /home/jovyan/work/notebooks/data/70b977e22af54...  \n",
       "29    /home/jovyan/work/notebooks/data/70b977e22af54...  \n",
       "...                                                 ...  \n",
       "3172  /home/jovyan/work/notebooks/data/70b977e22af54...  \n",
       "3173  /home/jovyan/work/notebooks/data/70b977e22af54...  \n",
       "3174  /home/jovyan/work/notebooks/data/70b977e22af54...  \n",
       "3175  /home/jovyan/work/notebooks/data/70b977e22af54...  \n",
       "3176  /home/jovyan/work/notebooks/data/70b977e22af54...  \n",
       "3177  /home/jovyan/work/notebooks/data/70b977e22af54...  \n",
       "3178  /home/jovyan/work/notebooks/data/70b977e22af54...  \n",
       "3179  /home/jovyan/work/notebooks/data/70b977e22af54...  \n",
       "3180  /home/jovyan/work/notebooks/data/70b977e22af54...  \n",
       "3181  /home/jovyan/work/notebooks/data/70b977e22af54...  \n",
       "3182  /home/jovyan/work/notebooks/data/70b977e22af54...  \n",
       "3183  /home/jovyan/work/notebooks/data/70b977e22af54...  \n",
       "3184  /home/jovyan/work/notebooks/data/70b977e22af54...  \n",
       "3185  /home/jovyan/work/notebooks/data/70b977e22af54...  \n",
       "3186  /home/jovyan/work/notebooks/data/70b977e22af54...  \n",
       "3187  /home/jovyan/work/notebooks/data/70b977e22af54...  \n",
       "3188  /home/jovyan/work/notebooks/data/70b977e22af54...  \n",
       "3189  /home/jovyan/work/notebooks/data/70b977e22af54...  \n",
       "3190  /home/jovyan/work/notebooks/data/70b977e22af54...  \n",
       "3191  /home/jovyan/work/notebooks/data/70b977e22af54...  \n",
       "3192  /home/jovyan/work/notebooks/data/70b977e22af54...  \n",
       "3193  /home/jovyan/work/notebooks/data/70b977e22af54...  \n",
       "3194  /home/jovyan/work/notebooks/data/70b977e22af54...  \n",
       "3195  /home/jovyan/work/notebooks/data/70b977e22af54...  \n",
       "3196  /home/jovyan/work/notebooks/data/70b977e22af54...  \n",
       "3197  /home/jovyan/work/notebooks/data/70b977e22af54...  \n",
       "3198  /home/jovyan/work/notebooks/data/70b977e22af54...  \n",
       "3199  /home/jovyan/work/notebooks/data/70b977e22af54...  \n",
       "3200  /home/jovyan/work/notebooks/data/70b977e22af54...  \n",
       "3201  /home/jovyan/work/notebooks/data/70b977e22af54...  \n",
       "\n",
       "[3202 rows x 9 columns]"
      ]
     },
     "execution_count": 33,
     "metadata": {},
     "output_type": "execute_result"
    }
   ],
   "source": [
    "# convert a raster vector back to geospatial presentation\n",
    "t4, t5 = rasterVectorToWGS(prec_vector, nodeXmap=nodeXmap, UTM_transformer=m)"
   ]
  },
  {
   "cell_type": "code",
   "execution_count": 35,
   "metadata": {},
   "outputs": [
    {
     "data": {
      "text/plain": [
       "<matplotlib.axes._subplots.AxesSubplot at 0x7f78a5aeb320>"
      ]
     },
     "execution_count": 35,
     "metadata": {},
     "output_type": "execute_result"
    },
    {
     "data": {
      "image/png": "[encoded data removed]",
      "text/plain": [
       "<Figure size 720x720 with 2 Axes>"
      ]
     },
     "metadata": {},
     "output_type": "display_data"
    }
   ],
   "source": [
    "t4.plot(column=\"value\", figsize=(10, 10), legend=True)"
   ]
  },
  {
   "cell_type": "code",
   "execution_count": 39,
   "metadata": {},
   "outputs": [],
   "source": [
    "# this is one decade\n",
    "inputvectors = {\n",
    "    \"precip_met\": np.tile(ltm[\"meandaily_Prec_sp_dailymet_livneh_1970_1970\"], 15000),\n",
    "    \"Tmax_met\": np.tile(ltm[\"meandaily_Tmax_sp_dailymet_livneh_1970_1970\"], 15000),\n",
    "    \"Tmin_met\": np.tile(ltm[\"meandaily_Tmin_sp_dailymet_livneh_1970_1970\"], 15000),\n",
    "}"
   ]
  },
  {
   "cell_type": "code",
   "execution_count": 40,
   "metadata": {},
   "outputs": [
    {
     "name": "stdout",
     "output_type": "stream",
     "text": [
      "Elapsed time =  0  years\n",
      "Elapsed time =  100  years\n",
      "Elapsed time =  200  years\n",
      "CPU times: user 1min 58s, sys: 3.94 s, total: 2min 2s\n",
      "Wall time: 1min 58s\n"
     ]
    }
   ],
   "source": [
    "%%time\n",
    "(VegType_low, yrs_low, debug_low) = run_ecohydrology_model(\n",
    "    raster,\n",
    "    input_data=inputvectors,\n",
    "    input_file=input_file,\n",
    "    synthetic_storms=False,\n",
    "    number_of_storms=100000,\n",
    "    pet_method=\"PriestleyTaylor\",\n",
    ")"
   ]
  },
  {
   "cell_type": "code",
   "execution_count": 41,
   "metadata": {},
   "outputs": [
    {
     "name": "stdout",
     "output_type": "stream",
     "text": [
      "Plotting cellular field of Plant Functional Type\n",
      "Green - Grass; Red - Shrubs; Black - Trees; White - Bare\n"
     ]
    },
    {
     "data": {
      "image/png": "[encoded data removed]",
      "text/plain": [
       "<Figure size 432x288 with 1 Axes>"
      ]
     },
     "metadata": {},
     "output_type": "display_data"
    },
    {
     "data": {
      "image/png": "[encoded data removed]",
      "text/plain": [
       "<Figure size 432x288 with 1 Axes>"
      ]
     },
     "metadata": {},
     "output_type": "display_data"
    },
    {
     "data": {
      "image/png": "[encoded data removed]",
      "text/plain": [
       "<Figure size 432x288 with 1 Axes>"
      ]
     },
     "metadata": {},
     "output_type": "display_data"
    },
    {
     "data": {
      "text/plain": [
       "<Figure size 432x288 with 0 Axes>"
      ]
     },
     "metadata": {},
     "output_type": "display_data"
    }
   ],
   "source": [
    "plot_results(raster, VegType_low, yrs_low, yr_step=yrs_low - 1)\n",
    "plt.show()\n",
    "plt.savefig(\"grid_low.png\")"
   ]
  },
  {
   "cell_type": "markdown",
   "metadata": {},
   "source": [
    "### Visualize the \"average monthly total precipitation\""
   ]
  },
  {
   "cell_type": "markdown",
   "metadata": {},
   "source": [
    "## 5. Save the results back into HydroShare\n",
    "<a name=\"creation\"></a>\n",
    "\n",
    "Using the `hs_utils` library, the results of the Geoprocessing steps above can be saved back into HydroShare.  First, define all of the required metadata for resource creation, i.e. *title*, *abstract*, *keywords*, *content files*.  In addition, we must define the type of resource that will be created, in this case *genericresource*.  \n",
    "\n",
    "***Note:*** Make sure you save the notebook at this point, so that all notebook changes will be saved into the new HydroShare resource."
   ]
  },
  {
   "cell_type": "markdown",
   "metadata": {},
   "source": [
    "### Total files and image to migrate"
   ]
  },
  {
   "cell_type": "code",
   "execution_count": null,
   "metadata": {},
   "outputs": [],
   "source": [
    "len(files)"
   ]
  },
  {
   "cell_type": "code",
   "execution_count": null,
   "metadata": {},
   "outputs": [],
   "source": [
    "# for each file downloaded onto the server folder, move to a new HydroShare Generic Resource\n",
    "title = \"Computed spatial-temporal summaries of two gridded data product data sets for Sauk-Suiattle\"\n",
    "abstract = \"This resource contains the computed summaries for the Meteorology data from Livneh et al. 2013 and the WRF data from Salathe et al. 2014.\"\n",
    "keywords = [\n",
    "    \"Sauk-Suiattle\",\n",
    "    \"Livneh 2013\",\n",
    "    \"Salathe 2014\",\n",
    "    \"climate\",\n",
    "    \"hydromet\",\n",
    "    \"watershed\",\n",
    "    \"visualizations and summaries\",\n",
    "]\n",
    "rtype = \"genericresource\"\n",
    "\n",
    "# create the new resource\n",
    "resource_id = hs.createHydroShareResource(\n",
    "    abstract,\n",
    "    title,\n",
    "    keywords=keywords,\n",
    "    resource_type=rtype,\n",
    "    content_files=files,\n",
    "    public=False,\n",
    ")"
   ]
  }
 ],
 "metadata": {
  "anaconda-cloud": {},
  "kernelspec": {
   "display_name": "Python 3",
   "language": "python",
   "name": "python3"
  },
  "language_info": {
   "codemirror_mode": {
    "name": "ipython",
    "version": 3
   },
   "file_extension": ".py",
   "mimetype": "text/x-python",
   "name": "python",
   "nbconvert_exporter": "python",
   "pygments_lexer": "ipython3",
   "version": "3.6.5"
  }
 },
 "nbformat": 4,
 "nbformat_minor": 2
}
